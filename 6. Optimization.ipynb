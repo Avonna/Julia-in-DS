{
 "cells": [
  {
   "cell_type": "markdown",
   "metadata": {},
   "source": [
    "# Урок 6. Математическая оптимизация"
   ]
  },
  {
   "cell_type": "markdown",
   "metadata": {},
   "source": [
    "## 1. Знакомство с пакетами\n",
    "Одним из самых популярных пакетов для решения задач математической оптимизации является [JuMP](https://jump.dev/JuMP.jl/stable/). \n",
    "  \n",
    "Данный пакет использует различные варианты solver'ов, Вы можете ознакомиться с полным списком и возможностями каждого [тут](https://jump.dev/JuMP.jl/stable/installation/). \n",
    "Сегодня мы будем использовать: \n",
    "- [GLPK](https://github.com/jump-dev/GLPK.jl), Солвер написанный на С для решения задач линейного (Linear programming) и целочисленного (Mixed-integer linear programming) программирования\n",
    "- [SCS](https://github.com/jump-dev/SCS.jl), использующий метод сопряженных конусов. \n",
    "\n",
    "Установите их, если не делали это ранее:"
   ]
  },
  {
   "cell_type": "code",
   "execution_count": null,
   "metadata": {},
   "outputs": [],
   "source": [
    "#import Pkg\n",
    "#Pkg.add(\"JuMP\")\n",
    "#Pkg.add(\"Convex\")\n",
    "#Pkg.add(\"GLPK\")\n",
    "#Pkg.add(\"SCS\")"
   ]
  },
  {
   "cell_type": "markdown",
   "metadata": {},
   "source": [
    "## 2. Задача линейного программирования"
   ]
  },
  {
   "cell_type": "markdown",
   "metadata": {},
   "source": [
    "В качестве примера, рассмотрим простейшую задачу линейного программирования: \n",
    "Мы решили открыть кофейню, которая делает два вида кофе \"Раф кофе\" за 400 рублей и  \"Капучино\" за 300.  \n",
    "\n",
    "Чтобы сварить 1 чашку Раф кофе необходимо: 40 гр. зерен, 140 гр. молока и 5 гр. ванильного сахара. \n",
    "Для того чтобы получить одну чашку капучино нужно потратить: 30 гр. зерен, 120 гр. молока\n",
    "На складе есть: 500 гр. зерен, 2000 гр. молока и 40 гр. ванильного сахара. \n",
    "\n",
    "Необходимо найти план варки кофе, обеспечивающий максимальную выручку от их реализации, учитывая, что нам не важно мнение покупаетелей, главное потратить весь ванильный сахар."
   ]
  },
  {
   "cell_type": "code",
   "execution_count": null,
   "metadata": {},
   "outputs": [],
   "source": [
    "using JuMP\n",
    "using GLPK"
   ]
  },
  {
   "cell_type": "markdown",
   "metadata": {},
   "source": [
    "JuMP позволяет создавать индексированные массивы с помощью метода `Containers`, подробнее [тут](https://jump.dev/JuMP.jl/dev/containers/). Зададим цену на напитки"
   ]
  },
  {
   "cell_type": "code",
   "execution_count": null,
   "metadata": {},
   "outputs": [],
   "source": [
    "drinks = [\"Раф кофе\", \"Капучино\"]\n",
    "ingredients = [\"Кофе в зернах\", \"Молоко\", \"Ванильный сахар\"]\n",
    "\n",
    "cost = JuMP.Containers.DenseAxisArray(\n",
    "    [400, 300],\n",
    "    drinks)"
   ]
  },
  {
   "cell_type": "markdown",
   "metadata": {},
   "source": [
    "Запишем рецепты"
   ]
  },
  {
   "cell_type": "code",
   "execution_count": null,
   "metadata": {},
   "outputs": [],
   "source": [
    "drinks_receipt = JuMP.Containers.DenseAxisArray(\n",
    "    [40 140 5;\n",
    "     30 120 0], \n",
    "    drinks, \n",
    "    ingredients)"
   ]
  },
  {
   "cell_type": "markdown",
   "metadata": {},
   "source": [
    "Зададим ограничения на кол-во ингредиентов"
   ]
  },
  {
   "cell_type": "code",
   "execution_count": null,
   "metadata": {},
   "outputs": [],
   "source": [
    "constr_ingredients = JuMP.Containers.DenseAxisArray(\n",
    "    [0 500;\n",
    "     0 2000;\n",
    "     40 40], # Помните условие про \"потратить весь ванильный сахар\" Ю \n",
    "    ingredients, \n",
    "    [\"min\", \"max\"])"
   ]
  },
  {
   "cell_type": "markdown",
   "metadata": {},
   "source": [
    "Назначим solver и создадим модель:"
   ]
  },
  {
   "cell_type": "code",
   "execution_count": null,
   "metadata": {},
   "outputs": [],
   "source": [
    "model = Model(GLPK.Optimizer)"
   ]
  },
  {
   "cell_type": "markdown",
   "metadata": {},
   "source": [
    "Зададим переменные и ограничения. В `plan_ingredients` будем складывать план по затраченным ресурсам, а в `plan` – план варки "
   ]
  },
  {
   "cell_type": "code",
   "execution_count": null,
   "metadata": {},
   "outputs": [],
   "source": [
    "@variables(model, begin\n",
    "    constr_ingredients[i, \"min\"] <= plan_ingredients[i = ingredients] <= constr_ingredients[i, \"max\"]\n",
    "    plan[drinks] >= 0\n",
    "end)"
   ]
  },
  {
   "cell_type": "markdown",
   "metadata": {},
   "source": [
    "План варки и затраченные ресурсы должны учитывать ограничение в виде соответствия рецептуре. Зададим такое ограничение: "
   ]
  },
  {
   "cell_type": "code",
   "execution_count": null,
   "metadata": {},
   "outputs": [],
   "source": [
    "@constraint(model, [c in ingredients],\n",
    "    sum(drinks_receipt[d, c] * plan[d] for d in drinks) == plan_ingredients[c]\n",
    ")"
   ]
  },
  {
   "cell_type": "markdown",
   "metadata": {},
   "source": [
    "В качестве целевой функции исполбьзуем максимизацию выручки:"
   ]
  },
  {
   "cell_type": "code",
   "execution_count": null,
   "metadata": {},
   "outputs": [],
   "source": [
    "@objective(model, Max, sum(cost[d] * plan[d] for d in drinks))\n"
   ]
  },
  {
   "cell_type": "markdown",
   "metadata": {},
   "source": [
    "Метод `optimize!` запускает поиск оптимального решения"
   ]
  },
  {
   "cell_type": "code",
   "execution_count": null,
   "metadata": {},
   "outputs": [],
   "source": [
    "JuMP.optimize!(model)\n",
    "term_status = JuMP.termination_status(model)\n",
    "println(\"Статус: $term_status\")"
   ]
  },
  {
   "cell_type": "code",
   "execution_count": null,
   "metadata": {},
   "outputs": [],
   "source": [
    "hcat(plan.data,JuMP.value.(plan.data))"
   ]
  },
  {
   "cell_type": "code",
   "execution_count": null,
   "metadata": {},
   "outputs": [],
   "source": [
    "hcat(plan_ingredients.data, JuMP.value.(plan_ingredients))"
   ]
  },
  {
   "cell_type": "markdown",
   "metadata": {},
   "source": [
    "## 3. Выпуклая оптимизация"
   ]
  },
  {
   "cell_type": "markdown",
   "metadata": {},
   "source": [
    "Для решения задач выпуклой оптимизации мы будем использовать пакет [Convex](https://jump.dev/Convex.jl/stable/), созданый специально для этого и поддерживающий [Disciplined Convex Programming](https://dcp.stanford.edu/home). \n",
    "\n",
    "Рассмотрим пример [отсюда](https://jump.dev/Convex.jl/stable/quick_tutorial/):"
   ]
  },
  {
   "cell_type": "markdown",
   "metadata": {},
   "source": [
    "\\begin{aligned}\n",
    "\\begin{array}{ll}\n",
    "\\text{minimize} & \\|Ax - b\\|_2^2 \\\\\n",
    "\\text{subject to} & x \\geq 0\n",
    "\\end{array}\n",
    "\\end{aligned}\n",
    "\n",
    "где $x\\in \\mathbf{R}^{n}$, $A \\in \\mathbf{R}^{m \\times n}$, $b \\in \\mathbf{R}^{m}$.\n",
    "\n"
   ]
  },
  {
   "cell_type": "code",
   "execution_count": null,
   "metadata": {},
   "outputs": [],
   "source": [
    "using Convex, SCS"
   ]
  },
  {
   "cell_type": "markdown",
   "metadata": {},
   "source": [
    "Сгенерируем данные для задачи"
   ]
  },
  {
   "cell_type": "code",
   "execution_count": null,
   "metadata": {},
   "outputs": [],
   "source": [
    "m = 4;  n = 5\n",
    "A = randn(m, n); b = randn(m, 1)"
   ]
  },
  {
   "cell_type": "markdown",
   "metadata": {},
   "source": [
    "Создадим искомый вектор"
   ]
  },
  {
   "cell_type": "code",
   "execution_count": null,
   "metadata": {},
   "outputs": [],
   "source": [
    "x = Variable(n)"
   ]
  },
  {
   "cell_type": "markdown",
   "metadata": {},
   "source": [
    "Зададим целевую функцию и ограничение (оно одно)"
   ]
  },
  {
   "cell_type": "code",
   "execution_count": null,
   "metadata": {},
   "outputs": [],
   "source": [
    "problem = minimize(sumsquares(A * x - b), [x >= 0])"
   ]
  },
  {
   "cell_type": "markdown",
   "metadata": {},
   "source": [
    "С помощью метода `solve!` запустим решение"
   ]
  },
  {
   "cell_type": "code",
   "execution_count": null,
   "metadata": {},
   "outputs": [],
   "source": [
    "solve!(problem, () -> SCS.Optimizer(verbose=true))"
   ]
  },
  {
   "cell_type": "code",
   "execution_count": null,
   "metadata": {},
   "outputs": [],
   "source": [
    "println(problem.status)\n",
    "println(problem.optval)\n",
    "println(x.value)"
   ]
  },
  {
   "cell_type": "markdown",
   "metadata": {},
   "source": [
    "## 4. Оптимальная рассадка по залам\n",
    "Вдохновлено примером [отсюда](https://jump.dev/Convex.jl/stable/examples/mixed_integer/section_allocation/)\n",
    "\n",
    "Представьте, что мы хотим провести DataFest с 5 разными секциями и у для каждой из них мы забронировали 5 залов различной вместимости: в каждом зале не должно быть меньше 180 и больше 250 людей, а на третьей секции активность подразумевает, что должно быть точно 220 человек.\n",
    "\n",
    "При этом организаторам удалось собрать 1000 заявок с указанием приоритета посещения 3 трех секций, где 1 - максимальный приоритет, 3 минимальный, а 10000 означает, что человек не пойдет на эту секцию. \n",
    "\n",
    "Наша задача дать рекомендацию слушателю, на какую же секцию ему все таки пойти, чтобы хватило места всем. \n",
    "\n",
    "Для начала сгенерируем матрицу приоритетов:"
   ]
  },
  {
   "cell_type": "code",
   "execution_count": null,
   "metadata": {},
   "outputs": [],
   "source": [
    "using Random\n",
    "s = [1, 2, 3, 1e4, 1e4]' # Типичные приоритеты\n",
    "priority = shuffle(s) # Пошафлим их\n",
    "for i = 1:999\n",
    "    priority = vcat(priority, shuffle(s))\n",
    "end"
   ]
  },
  {
   "cell_type": "markdown",
   "metadata": {},
   "source": [
    "Создадим матрицу рассадки, в которой строки будут соответствать слушателю, а столбцы секциям:"
   ]
  },
  {
   "cell_type": "code",
   "execution_count": null,
   "metadata": {},
   "outputs": [],
   "source": [
    "X = Variable(size(priority), :Bin)"
   ]
  },
  {
   "cell_type": "markdown",
   "metadata": {},
   "source": [
    "Наложим ограничения"
   ]
  },
  {
   "cell_type": "code",
   "execution_count": null,
   "metadata": {},
   "outputs": [],
   "source": [
    "constraints = [sum(X, dims=2) == 1, sum(X, dims=1) <= 250, sum(X, dims=1) >=180, sum(X, dims=1)[:, 3] == 220]"
   ]
  },
  {
   "cell_type": "markdown",
   "metadata": {},
   "source": [
    "Целевой функций для минимизации будет ни что иное как $X^T \\times P$, где $X$ - Матрица рассадки, а $P$ - матрица приоритетов"
   ]
  },
  {
   "cell_type": "code",
   "execution_count": null,
   "metadata": {},
   "outputs": [],
   "source": [
    "p = minimize(vec(X)' * vec(priority), constraints)\n",
    "\n",
    "solve!(p, GLPK.Optimizer)"
   ]
  },
  {
   "cell_type": "code",
   "execution_count": null,
   "metadata": {},
   "outputs": [],
   "source": [
    "sum(X.value, dims=1)"
   ]
  },
  {
   "cell_type": "code",
   "execution_count": null,
   "metadata": {
    "scrolled": true
   },
   "outputs": [],
   "source": [
    "p.optval"
   ]
  }
 ],
 "metadata": {
  "kernelspec": {
   "display_name": "Julia 1.3.1",
   "language": "julia",
   "name": "julia-1.3"
  },
  "language_info": {
   "file_extension": ".jl",
   "mimetype": "application/julia",
   "name": "julia",
   "version": "1.3.1"
  }
 },
 "nbformat": 4,
 "nbformat_minor": 4
}
