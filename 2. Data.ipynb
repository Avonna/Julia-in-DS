{
 "cells": [
  {
   "cell_type": "markdown",
   "metadata": {},
   "source": [
    "# Урок 2. Работа с данными."
   ]
  },
  {
   "cell_type": "code",
   "execution_count": 1,
   "metadata": {},
   "outputs": [
    {
     "name": "stdout",
     "output_type": "stream",
     "text": [
      "\u001b[32m\u001b[1m  Updating\u001b[22m\u001b[39m registry at `~/.julia/registries/General`\n",
      "\u001b[32m\u001b[1m  Updating\u001b[22m\u001b[39m git-repo `https://github.com/JuliaRegistries/General.git`\n",
      "\u001b[2K\u001b[?25h[1mFetching:\u001b[22m\u001b[39m [========================================>]  100.0 %.0 %\u001b[36m\u001b[1mFetching:\u001b[22m\u001b[39m [=====>                                   ]  10.2 %\u001b[36m\u001b[1mFetching:\u001b[22m\u001b[39m [=====>                                   ]  10.9 %\u001b[36m\u001b[1mFetching:\u001b[22m\u001b[39m [=====>                                   ]  11.3 %\u001b[36m\u001b[1mFetching:\u001b[22m\u001b[39m [=====>                                   ]  11.8 %\u001b[36m\u001b[1mFetching:\u001b[22m\u001b[39m [=====>                                   ]  12.0 %\u001b[36m\u001b[1mFetching:\u001b[22m\u001b[39m [=====>                                   ]  12.4 %\u001b[36m\u001b[1mFetching:\u001b[22m\u001b[39m [======>                                  ]  12.7 %\u001b[36m\u001b[1mFetching:\u001b[22m\u001b[39m [======>                                  ]  13.2 %======>                                  ]  14.6 %\u001b[36m\u001b[1mFetching:\u001b[22m\u001b[39m [=======>                                 ]  15.1 %\u001b[36m\u001b[1mFetching:\u001b[22m\u001b[39m [=======>                                 ]  16.4 %\u001b[36m\u001b[1mFetching:\u001b[22m\u001b[39m [========>                                ]  18.6 %\u001b[36m\u001b[1mFetching:\u001b[22m\u001b[39m [========>                                ]  19.0 %\u001b[36m\u001b[1mFetching:\u001b[22m\u001b[39m [=============>                           ]  31.3 %\u001b[36m\u001b[1mFetching:\u001b[22m\u001b[39m [=============>                           ]  31.9 %\u001b[36m\u001b[1mFetching:\u001b[22m\u001b[39m [==============>                          ]  33.1 %\u001b[36m\u001b[1mFetching:\u001b[22m\u001b[39m [==============>                          ]  34.5 %\u001b[36m\u001b[1mFetching:\u001b[22m\u001b[39m [==============>                          ]  34.9 %\u001b[36m\u001b[1mFetching:\u001b[22m\u001b[39m [=====================>                   ]  51.6 %\u001b[36m\u001b[1mFetching:\u001b[22m\u001b[39m [======================>                  ]  54.1 %\u001b[36m\u001b[1mFetching:\u001b[22m\u001b[39m [=======================>                 ]  56.0 %\u001b[36m\u001b[1mFetching:\u001b[22m\u001b[39m [========================>                ]  59.6 %\u001b[36m\u001b[1mFetching:\u001b[22m\u001b[39m [==============================>          ]  73.8 %\u001b[36m\u001b[1mFetching:\u001b[22m\u001b[39m [===============================>         ]  76.4 %\u001b[36m\u001b[1mFetching:\u001b[22m\u001b[39m [================================>        ]  80.0 %\u001b[36m\u001b[1mFetching:\u001b[22m\u001b[39m [======================================>  ]  92.6 %\u001b[36m\u001b[1mFetching:\u001b[22m\u001b[39m [======================================>  ]  95.0 %\u001b[36m\u001b[1mFetching:\u001b[22m\u001b[39m [=======================================> ]  95.1 %\u001b[36m\u001b[1mFetching:\u001b[22m\u001b[39m [=======================================> ]  96.5 %\u001b[36m\u001b[1mFetching:\u001b[22m\u001b[39m [=======================================> ]  96.6 %\u001b[36m\u001b[1mFetching:\u001b[22m\u001b[39m [=======================================> ]  96.7 %\u001b[36m\u001b[1mFetching:\u001b[22m\u001b[39m [=======================================> ]  97.0 %\u001b[36m\u001b[1mFetching:\u001b[22m\u001b[39m [=======================================> ]  97.1 %\u001b[36m\u001b[1mFetching:\u001b[22m\u001b[39m [=======================================> ]  97.2 %\u001b[36m\u001b[1mFetching:\u001b[22m\u001b[39m [=======================================> ]  97.3 %\u001b[36m\u001b[1mFetching:\u001b[22m\u001b[39m [=======================================> ]  97.4 %\u001b[36m\u001b[1mFetching:\u001b[22m\u001b[39m [========================================>]  97.5 %\u001b[32m\u001b[1m Resolving\u001b[22m\u001b[39m package versions...\n",
      "\u001b[32m\u001b[1m Installed\u001b[22m\u001b[39m DataValueInterfaces ───────── v1.0.0\n",
      "\u001b[32m\u001b[1m Installed\u001b[22m\u001b[39m DataAPI ───────────────────── v1.3.0\n",
      "\u001b[32m\u001b[1m Installed\u001b[22m\u001b[39m SentinelArrays ────────────── v1.2.16\n",
      "\u001b[32m\u001b[1m Installed\u001b[22m\u001b[39m StructTypes ───────────────── v1.1.0\n",
      "\u001b[32m\u001b[1m Installed\u001b[22m\u001b[39m ZMQ ───────────────────────── v1.2.1\n",
      "\u001b[32m\u001b[1m Installed\u001b[22m\u001b[39m CategoricalArrays ─────────── v0.8.3\n",
      "\u001b[32m\u001b[1m Installed\u001b[22m\u001b[39m DataFrames ────────────────── v0.21.8\n",
      "\u001b[32m\u001b[1m Installed\u001b[22m\u001b[39m IteratorInterfaceExtensions ─ v1.0.0\n",
      "\u001b[32m\u001b[1m Installed\u001b[22m\u001b[39m MbedTLS_jll ───────────────── v2.16.8+0\n",
      "\u001b[32m\u001b[1m Installed\u001b[22m\u001b[39m InvertedIndices ───────────── v1.0.0\n",
      "\u001b[32m\u001b[1m Installed\u001b[22m\u001b[39m Parsers ───────────────────── v1.0.11\n",
      "\u001b[32m\u001b[1m Installed\u001b[22m\u001b[39m Compat ────────────────────── v3.20.0\n",
      "\u001b[32m\u001b[1m Installed\u001b[22m\u001b[39m DataStructures ────────────── v0.18.7\n",
      "\u001b[32m\u001b[1m Installed\u001b[22m\u001b[39m JSON ──────────────────────── v0.21.1\n",
      "\u001b[32m\u001b[1m Installed\u001b[22m\u001b[39m SortingAlgorithms ─────────── v0.3.1\n",
      "\u001b[32m\u001b[1m Installed\u001b[22m\u001b[39m TableTraits ───────────────── v1.0.0\n",
      "\u001b[32m\u001b[1m Installed\u001b[22m\u001b[39m Tables ────────────────────── v1.1.0\n",
      "\u001b[32m\u001b[1m Installed\u001b[22m\u001b[39m ZeroMQ_jll ────────────────── v4.3.2+4\n",
      "\u001b[32m\u001b[1m Installed\u001b[22m\u001b[39m Reexport ──────────────────── v0.2.0\n",
      "\u001b[32m\u001b[1m Installed\u001b[22m\u001b[39m PooledArrays ──────────────── v0.5.3\n",
      "\u001b[32m\u001b[1m Installed\u001b[22m\u001b[39m OrderedCollections ────────── v1.3.1\n",
      "\u001b[32m\u001b[1m Installed\u001b[22m\u001b[39m SoftGlobalScope ───────────── v1.1.0\n",
      "\u001b[32m\u001b[1m Installed\u001b[22m\u001b[39m Missings ──────────────────── v0.4.4\n",
      "\u001b[32m\u001b[1m Installed\u001b[22m\u001b[39m CSV ───────────────────────── v0.7.7\n",
      "\u001b[32m\u001b[1m  Updating\u001b[22m\u001b[39m `~/.julia/environments/v1.3/Project.toml`\n",
      " \u001b[90m [336ed68f]\u001b[39m\u001b[92m + CSV v0.7.7\u001b[39m\n",
      "\u001b[32m\u001b[1m  Updating\u001b[22m\u001b[39m `~/.julia/environments/v1.3/Manifest.toml`\n",
      " \u001b[90m [336ed68f]\u001b[39m\u001b[92m + CSV v0.7.7\u001b[39m\n",
      " \u001b[90m [324d7699]\u001b[39m\u001b[92m + CategoricalArrays v0.8.3\u001b[39m\n",
      " \u001b[90m [34da2185]\u001b[39m\u001b[92m + Compat v3.20.0\u001b[39m\n",
      " \u001b[90m [9a962f9c]\u001b[39m\u001b[92m + DataAPI v1.3.0\u001b[39m\n",
      " \u001b[90m [a93c6f00]\u001b[39m\u001b[92m + DataFrames v0.21.8\u001b[39m\n",
      " \u001b[90m [864edb3b]\u001b[39m\u001b[92m + DataStructures v0.18.7\u001b[39m\n",
      " \u001b[90m [e2d170a0]\u001b[39m\u001b[92m + DataValueInterfaces v1.0.0\u001b[39m\n",
      " \u001b[90m [41ab1584]\u001b[39m\u001b[92m + InvertedIndices v1.0.0\u001b[39m\n",
      " \u001b[90m [82899510]\u001b[39m\u001b[92m + IteratorInterfaceExtensions v1.0.0\u001b[39m\n",
      " \u001b[90m [682c06a0]\u001b[39m\u001b[93m ↑ JSON v0.21.0 ⇒ v0.21.1\u001b[39m\n",
      " \u001b[90m [c8ffd9c3]\u001b[39m\u001b[93m ↑ MbedTLS_jll v2.16.0+2 ⇒ v2.16.8+0\u001b[39m\n",
      " \u001b[90m [e1d29d7a]\u001b[39m\u001b[92m + Missings v0.4.4\u001b[39m\n",
      " \u001b[90m [bac558e1]\u001b[39m\u001b[92m + OrderedCollections v1.3.1\u001b[39m\n",
      " \u001b[90m [69de0a69]\u001b[39m\u001b[93m ↑ Parsers v1.0.3 ⇒ v1.0.11\u001b[39m\n",
      " \u001b[90m [2dfb63ee]\u001b[39m\u001b[92m + PooledArrays v0.5.3\u001b[39m\n",
      " \u001b[90m [189a3867]\u001b[39m\u001b[92m + Reexport v0.2.0\u001b[39m\n",
      " \u001b[90m [91c51154]\u001b[39m\u001b[92m + SentinelArrays v1.2.16\u001b[39m\n",
      " \u001b[90m [b85f4697]\u001b[39m\u001b[93m ↑ SoftGlobalScope v1.0.10 ⇒ v1.1.0\u001b[39m\n",
      " \u001b[90m [a2af1166]\u001b[39m\u001b[92m + SortingAlgorithms v0.3.1\u001b[39m\n",
      " \u001b[90m [856f2bd8]\u001b[39m\u001b[92m + StructTypes v1.1.0\u001b[39m\n",
      " \u001b[90m [3783bdb8]\u001b[39m\u001b[92m + TableTraits v1.0.0\u001b[39m\n",
      " \u001b[90m [bd369af6]\u001b[39m\u001b[92m + Tables v1.1.0\u001b[39m\n",
      " \u001b[90m [c2297ded]\u001b[39m\u001b[93m ↑ ZMQ v1.2.0 ⇒ v1.2.1\u001b[39m\n",
      " \u001b[90m [8f1865be]\u001b[39m\u001b[93m ↑ ZeroMQ_jll v4.3.2+2 ⇒ v4.3.2+4\u001b[39m\n",
      " \u001b[90m [8bb1440f]\u001b[39m\u001b[92m + DelimitedFiles \u001b[39m\n",
      " \u001b[90m [9fa8497b]\u001b[39m\u001b[92m + Future \u001b[39m\n",
      " \u001b[90m [37e2e46d]\u001b[39m\u001b[92m + LinearAlgebra \u001b[39m\n",
      " \u001b[90m [1a1011a3]\u001b[39m\u001b[92m + SharedArrays \u001b[39m\n",
      " \u001b[90m [2f01184e]\u001b[39m\u001b[92m + SparseArrays \u001b[39m\n",
      " \u001b[90m [10745b16]\u001b[39m\u001b[92m + Statistics \u001b[39m\n",
      "\u001b[32m\u001b[1m Resolving\u001b[22m\u001b[39m package versions...\n",
      "\u001b[32m\u001b[1m  Updating\u001b[22m\u001b[39m `~/.julia/environments/v1.3/Project.toml`\n",
      " \u001b[90m [a93c6f00]\u001b[39m\u001b[92m + DataFrames v0.21.8\u001b[39m\n",
      "\u001b[32m\u001b[1m  Updating\u001b[22m\u001b[39m `~/.julia/environments/v1.3/Manifest.toml`\n",
      "\u001b[90m [no changes]\u001b[39m\n",
      "\u001b[32m\u001b[1m Resolving\u001b[22m\u001b[39m package versions...\n",
      "\u001b[32m\u001b[1m  Updating\u001b[22m\u001b[39m `~/.julia/environments/v1.3/Project.toml`\n",
      " \u001b[90m [8bb1440f]\u001b[39m\u001b[92m + DelimitedFiles \u001b[39m\n",
      "\u001b[32m\u001b[1m  Updating\u001b[22m\u001b[39m `~/.julia/environments/v1.3/Manifest.toml`\n",
      "\u001b[90m [no changes]\u001b[39m\n"
     ]
    }
   ],
   "source": [
    "import Pkg;\n",
    "Pkg.add(\"CSV\")\n",
    "Pkg.add(\"DataFrames\")\n",
    "Pkg.add(\"DelimitedFiles\")"
   ]
  },
  {
   "cell_type": "code",
   "execution_count": 2,
   "metadata": {},
   "outputs": [
    {
     "name": "stderr",
     "output_type": "stream",
     "text": [
      "┌ Info: Precompiling CSV [336ed68f-0bac-5ca0-87d4-7b16caf5d00b]\n",
      "└ @ Base loading.jl:1273\n"
     ]
    }
   ],
   "source": [
    "using CSV  # Чтение и запись CSV файлов\n",
    "using DataFrames  # Create a data structure\n",
    "using DelimitedFiles # Работа с файлами с разделителями\n",
    "using Statistics # Модуль для работы со статистическими данными\n",
    "# using XLSX"
   ]
  },
  {
   "cell_type": "markdown",
   "metadata": {},
   "source": [
    "## 1. Линейная алгебра"
   ]
  },
  {
   "cell_type": "code",
   "execution_count": 61,
   "metadata": {},
   "outputs": [
    {
     "data": {
      "text/plain": [
       "5×5 Array{Float64,2}:\n",
       " 0.918589  1.37553  0.772424  1.25694  0.72089\n",
       " 1.37553   2.7748   1.77415   2.5408   1.83507\n",
       " 0.772424  1.77415  1.40094   1.85991  1.29512\n",
       " 1.25694   2.5408   1.85991   2.61212  1.74482\n",
       " 0.72089   1.83507  1.29512   1.74482  1.96273"
      ]
     },
     "execution_count": 61,
     "metadata": {},
     "output_type": "execute_result"
    }
   ],
   "source": [
    "A = rand(5,5); # Создадим матрицу размером 5x5\n",
    "A_t = A' # Транспонирование матрицы\n",
    "A = A_t*A; # Умножение матриц\n",
    "A"
   ]
  },
  {
   "cell_type": "markdown",
   "metadata": {},
   "source": [
    "- `size()` Покажет размерность матрицы\n",
    "- `sizeof()` Покажет размер в байтах, а `typeof()` тип данных"
   ]
  },
  {
   "cell_type": "code",
   "execution_count": 62,
   "metadata": {},
   "outputs": [
    {
     "data": {
      "text/plain": [
       "((5, 5), 200, Array{Float64,2})"
      ]
     },
     "execution_count": 62,
     "metadata": {},
     "output_type": "execute_result"
    }
   ],
   "source": [
    "size(A), sizeof(A), typeof(A)"
   ]
  },
  {
   "cell_type": "markdown",
   "metadata": {},
   "source": [
    "Обращаться к матрице можно по индексу строки и столбца, например так (Обратите внимание, они считаются с 1):"
   ]
  },
  {
   "cell_type": "code",
   "execution_count": 63,
   "metadata": {},
   "outputs": [
    {
     "data": {
      "text/plain": [
       "2.7748028243218226"
      ]
     },
     "execution_count": 63,
     "metadata": {},
     "output_type": "execute_result"
    }
   ],
   "source": [
    "A[2,2]"
   ]
  },
  {
   "cell_type": "markdown",
   "metadata": {},
   "source": [
    "Или представить, что у нас длинный вектор (аналог операции `flatten`) и задать одним индексом:"
   ]
  },
  {
   "cell_type": "code",
   "execution_count": 64,
   "metadata": {},
   "outputs": [
    {
     "data": {
      "text/plain": [
       "2.7748028243218226"
      ]
     },
     "execution_count": 64,
     "metadata": {},
     "output_type": "execute_result"
    }
   ],
   "source": [
    "A[7]"
   ]
  },
  {
   "cell_type": "markdown",
   "metadata": {},
   "source": [
    "## 2. Чтение файлов"
   ]
  },
  {
   "cell_type": "markdown",
   "metadata": {},
   "source": [
    "Возьмем [отсюда](https://www.kaggle.com/shivamb/netflix-shows) датасет и скачаем его, например так:"
   ]
  },
  {
   "cell_type": "code",
   "execution_count": 276,
   "metadata": {},
   "outputs": [
    {
     "data": {
      "text/plain": [
       "\"netflix.csv\""
      ]
     },
     "execution_count": 276,
     "metadata": {},
     "output_type": "execute_result"
    }
   ],
   "source": [
    "download(\"https://raw.githubusercontent.com/VlasovKirill/Julia-in-DS-crash-course/master/data/netflix_titles.csv\",\n",
    "    \"netflix.csv\")"
   ]
  },
  {
   "cell_type": "markdown",
   "metadata": {},
   "source": [
    "Для чтения файлов с разделителями можно использовать стандартную библиотеку [DelimitedFiles](https://docs.julialang.org/en/v1/stdlib/DelimitedFiles/) и метода `readdlm`:"
   ]
  },
  {
   "cell_type": "code",
   "execution_count": 34,
   "metadata": {},
   "outputs": [
    {
     "name": "stdout",
     "output_type": "stream",
     "text": [
      "header это: Array{AbstractString,2} и имеет размерность (1, 12)\n",
      "netflix это: Array{Any,2} и имеет размерность (6234, 12)\n"
     ]
    }
   ],
   "source": [
    "netflix, header = DelimitedFiles.readdlm(\"netflix.csv\", ',', header=true)\n",
    "\n",
    "println(\"header это: \", typeof(header), \" и имеет размерность \", size(header))\n",
    "println(\"netflix это: \", typeof(netflix), \" и имеет размерность \", size(netflix))"
   ]
  },
  {
   "cell_type": "markdown",
   "metadata": {},
   "source": [
    "В Python мы привыкли работать с табличными данными в виде Dataframe'ов. По аналогии с Pandas, пакет [DataFrames](https://juliadata.github.io/DataFrames.jl/stable/man/getting_started/) позволяет рабоотать с табличными данными придставляя их в виде Dataframe'ов. Объекты типа DataFrame представляют таблицу данных как серию векторов, каждый из которых соответствует столбцу или переменной. \n",
    "\n",
    "Создать DataFrame, можно просто передав кажду колонку как вектор: "
   ]
  },
  {
   "cell_type": "code",
   "execution_count": 126,
   "metadata": {},
   "outputs": [
    {
     "data": {
      "text/html": [
       "<table class=\"data-frame\"><thead><tr><th></th><th>Month</th><th>Value</th></tr><tr><th></th><th>String</th><th>Int64</th></tr></thead><tbody><p>3 rows × 2 columns</p><tr><th>1</th><td>Jan</td><td>1</td></tr><tr><th>2</th><td>Feb</td><td>2</td></tr><tr><th>3</th><td>March</td><td>3</td></tr></tbody></table>"
      ],
      "text/latex": [
       "\\begin{tabular}{r|cc}\n",
       "\t& Month & Value\\\\\n",
       "\t\\hline\n",
       "\t& String & Int64\\\\\n",
       "\t\\hline\n",
       "\t1 & Jan & 1 \\\\\n",
       "\t2 & Feb & 2 \\\\\n",
       "\t3 & March & 3 \\\\\n",
       "\\end{tabular}\n"
      ],
      "text/plain": [
       "3×2 DataFrame\n",
       "│ Row │ Month  │ Value │\n",
       "│     │ \u001b[90mString\u001b[39m │ \u001b[90mInt64\u001b[39m │\n",
       "├─────┼────────┼───────┤\n",
       "│ 1   │ Jan    │ 1     │\n",
       "│ 2   │ Feb    │ 2     │\n",
       "│ 3   │ March  │ 3     │"
      ]
     },
     "execution_count": 126,
     "metadata": {},
     "output_type": "execute_result"
    }
   ],
   "source": [
    "df = DataFrame(Month = [\"Jan\", \"Feb\", \"March\"], Value = 1:3)"
   ]
  },
  {
   "cell_type": "markdown",
   "metadata": {},
   "source": [
    "Посмотрим на тип объекта `df`:"
   ]
  },
  {
   "cell_type": "code",
   "execution_count": 127,
   "metadata": {},
   "outputs": [
    {
     "data": {
      "text/plain": [
       "DataFrame"
      ]
     },
     "execution_count": 127,
     "metadata": {},
     "output_type": "execute_result"
    }
   ],
   "source": [
    "typeof(df)"
   ]
  },
  {
   "cell_type": "markdown",
   "metadata": {},
   "source": [
    "Теперь можно добавлять столбцы или строки:"
   ]
  },
  {
   "cell_type": "code",
   "execution_count": 130,
   "metadata": {},
   "outputs": [
    {
     "name": "stdout",
     "output_type": "stream",
     "text": [
      "фрейм размером (3, 3) стал (3, 3)"
     ]
    },
    {
     "data": {
      "text/html": [
       "<table class=\"data-frame\"><thead><tr><th></th><th>Month</th><th>Value</th><th>Year</th></tr><tr><th></th><th>String</th><th>Int64</th><th>Float64</th></tr></thead><tbody><p>3 rows × 3 columns</p><tr><th>1</th><td>Jan</td><td>1</td><td>2020.0</td></tr><tr><th>2</th><td>Feb</td><td>2</td><td>2020.0</td></tr><tr><th>3</th><td>March</td><td>3</td><td>2020.0</td></tr></tbody></table>"
      ],
      "text/latex": [
       "\\begin{tabular}{r|ccc}\n",
       "\t& Month & Value & Year\\\\\n",
       "\t\\hline\n",
       "\t& String & Int64 & Float64\\\\\n",
       "\t\\hline\n",
       "\t1 & Jan & 1 & 2020.0 \\\\\n",
       "\t2 & Feb & 2 & 2020.0 \\\\\n",
       "\t3 & March & 3 & 2020.0 \\\\\n",
       "\\end{tabular}\n"
      ],
      "text/plain": [
       "3×3 DataFrame\n",
       "│ Row │ Month  │ Value │ Year    │\n",
       "│     │ \u001b[90mString\u001b[39m │ \u001b[90mInt64\u001b[39m │ \u001b[90mFloat64\u001b[39m │\n",
       "├─────┼────────┼───────┼─────────┤\n",
       "│ 1   │ Jan    │ 1     │ 2020.0  │\n",
       "│ 2   │ Feb    │ 2     │ 2020.0  │\n",
       "│ 3   │ March  │ 3     │ 2020.0  │"
      ]
     },
     "execution_count": 130,
     "metadata": {},
     "output_type": "execute_result"
    }
   ],
   "source": [
    "old_size = size(df)\n",
    "df.Year = ones(3)*2020\n",
    "col_add_size = size(df)\n",
    "print(\"фрейм размером \",old_size, \" стал \",  col_add_size)\n",
    "df"
   ]
  },
  {
   "cell_type": "code",
   "execution_count": 137,
   "metadata": {},
   "outputs": [
    {
     "name": "stdout",
     "output_type": "stream",
     "text": [
      "фрейм размером (3, 3) стал (10, 3)"
     ]
    }
   ],
   "source": [
    "push!(df, (\"April\", 4, 2020))\n",
    "print(\"фрейм размером \",col_add_size, \" стал \",  size(df))"
   ]
  },
  {
   "cell_type": "markdown",
   "metadata": {},
   "source": [
    "Конечно мы можем создать DataFrame и на основе матрицы:"
   ]
  },
  {
   "cell_type": "code",
   "execution_count": 140,
   "metadata": {},
   "outputs": [
    {
     "data": {
      "text/html": [
       "<table class=\"data-frame\"><thead><tr><th></th><th>x1</th><th>x2</th><th>x3</th><th>x4</th></tr><tr><th></th><th>Any</th><th>Any</th><th>Any</th><th>Any</th></tr></thead><tbody><p>3 rows × 12 columns (omitted printing of 8 columns)</p><tr><th>1</th><td>81145628</td><td>Movie</td><td>Norm of the North: King Sized Adventure</td><td>Richard Finn, Tim Maltby</td></tr><tr><th>2</th><td>80117401</td><td>Movie</td><td>Jandino: Whatever it Takes</td><td></td></tr><tr><th>3</th><td>70234439</td><td>TV Show</td><td>Transformers Prime</td><td></td></tr></tbody></table>"
      ],
      "text/latex": [
       "\\begin{tabular}{r|ccccc}\n",
       "\t& x1 & x2 & x3 & x4 & \\\\\n",
       "\t\\hline\n",
       "\t& Any & Any & Any & Any & \\\\\n",
       "\t\\hline\n",
       "\t1 & 81145628 & Movie & Norm of the North: King Sized Adventure & Richard Finn, Tim Maltby & $\\dots$ \\\\\n",
       "\t2 & 80117401 & Movie & Jandino: Whatever it Takes &  & $\\dots$ \\\\\n",
       "\t3 & 70234439 & TV Show & Transformers Prime &  & $\\dots$ \\\\\n",
       "\\end{tabular}\n"
      ],
      "text/plain": [
       "3×12 DataFrame. Omitted printing of 9 columns\n",
       "│ Row │ x1       │ x2      │ x3                                      │\n",
       "│     │ \u001b[90mAny\u001b[39m      │ \u001b[90mAny\u001b[39m     │ \u001b[90mAny\u001b[39m                                     │\n",
       "├─────┼──────────┼─────────┼─────────────────────────────────────────┤\n",
       "│ 1   │ 81145628 │ Movie   │ Norm of the North: King Sized Adventure │\n",
       "│ 2   │ 80117401 │ Movie   │ Jandino: Whatever it Takes              │\n",
       "│ 3   │ 70234439 │ TV Show │ Transformers Prime                      │"
      ]
     },
     "execution_count": 140,
     "metadata": {},
     "output_type": "execute_result"
    }
   ],
   "source": [
    "netflix_df = DataFrame(netflix)\n",
    "first(netflix_df, 3)"
   ]
  },
  {
   "cell_type": "code",
   "execution_count": 142,
   "metadata": {},
   "outputs": [
    {
     "data": {
      "text/html": [
       "<table class=\"data-frame\"><thead><tr><th></th><th>x1</th><th>x2</th><th>x3</th><th>x4</th><th>x5</th></tr><tr><th></th><th>Any</th><th>Any</th><th>Any</th><th>Any</th><th>Any</th></tr></thead><tbody><p>3 rows × 12 columns (omitted printing of 7 columns)</p><tr><th>1</th><td>80116008</td><td>Movie</td><td>Little Baby Bum: Nursery Rhyme Friends</td><td></td><td></td></tr><tr><th>2</th><td>70281022</td><td>TV Show</td><td>A Young Doctor's Notebook and Other Stories</td><td></td><td>Daniel Radcliffe, Jon Hamm, Adam Godley, Christopher Godwin, Rosie Cavaliero, Vicki Pepperdine, Margaret Clunie, Tim Steed, Shaun Pye</td></tr><tr><th>3</th><td>70153404</td><td>TV Show</td><td>Friends</td><td></td><td>Jennifer Aniston, Courteney Cox, Lisa Kudrow, Matt LeBlanc, Matthew Perry, David Schwimmer</td></tr></tbody></table>"
      ],
      "text/latex": [
       "\\begin{tabular}{r|cccccc}\n",
       "\t& x1 & x2 & x3 & x4 & x5 & \\\\\n",
       "\t\\hline\n",
       "\t& Any & Any & Any & Any & Any & \\\\\n",
       "\t\\hline\n",
       "\t1 & 80116008 & Movie & Little Baby Bum: Nursery Rhyme Friends &  &  & $\\dots$ \\\\\n",
       "\t2 & 70281022 & TV Show & A Young Doctor's Notebook and Other Stories &  & Daniel Radcliffe, Jon Hamm, Adam Godley, Christopher Godwin, Rosie Cavaliero, Vicki Pepperdine, Margaret Clunie, Tim Steed, Shaun Pye & $\\dots$ \\\\\n",
       "\t3 & 70153404 & TV Show & Friends &  & Jennifer Aniston, Courteney Cox, Lisa Kudrow, Matt LeBlanc, Matthew Perry, David Schwimmer & $\\dots$ \\\\\n",
       "\\end{tabular}\n"
      ],
      "text/plain": [
       "3×12 DataFrame. Omitted printing of 8 columns\n",
       "│ Row │ x1       │ x2      │ x3                                          │ x4  │\n",
       "│     │ \u001b[90mAny\u001b[39m      │ \u001b[90mAny\u001b[39m     │ \u001b[90mAny\u001b[39m                                         │ \u001b[90mAny\u001b[39m │\n",
       "├─────┼──────────┼─────────┼─────────────────────────────────────────────┼─────┤\n",
       "│ 1   │ 80116008 │ Movie   │ Little Baby Bum: Nursery Rhyme Friends      │     │\n",
       "│ 2   │ 70281022 │ TV Show │ A Young Doctor's Notebook and Other Stories │     │\n",
       "│ 3   │ 70153404 │ TV Show │ Friends                                     │     │"
      ]
     },
     "execution_count": 142,
     "metadata": {},
     "output_type": "execute_result"
    }
   ],
   "source": [
    "last(netflix_df, 3)"
   ]
  },
  {
   "cell_type": "markdown",
   "metadata": {},
   "source": [
    "Лучшим вариантом создать DataFrame может быть прямо при чтении CSV файла c помощью пакета [CSV](https://juliadata.github.io/CSV.jl/stable/)     "
   ]
  },
  {
   "cell_type": "code",
   "execution_count": 156,
   "metadata": {},
   "outputs": [
    {
     "data": {
      "text/plain": [
       "(DataFrame, DataFrame)"
      ]
     },
     "execution_count": 156,
     "metadata": {},
     "output_type": "execute_result"
    }
   ],
   "source": [
    "netflix_csv = CSV.read(\"netflix.csv\");\n",
    "typeof(netflix_csv), typeof(netflix_df)"
   ]
  },
  {
   "cell_type": "code",
   "execution_count": 157,
   "metadata": {},
   "outputs": [
    {
     "data": {
      "text/html": [
       "<table class=\"data-frame\"><thead><tr><th></th><th>show_id</th><th>type</th><th>title</th><th>director</th></tr><tr><th></th><th>Int64</th><th>String</th><th>String</th><th>String?</th></tr></thead><tbody><p>3 rows × 12 columns (omitted printing of 8 columns)</p><tr><th>1</th><td>81145628</td><td>Movie</td><td>Norm of the North: King Sized Adventure</td><td>Richard Finn, Tim Maltby</td></tr><tr><th>2</th><td>80117401</td><td>Movie</td><td>Jandino: Whatever it Takes</td><td><em>missing</em></td></tr><tr><th>3</th><td>70234439</td><td>TV Show</td><td>Transformers Prime</td><td><em>missing</em></td></tr></tbody></table>"
      ],
      "text/latex": [
       "\\begin{tabular}{r|ccccc}\n",
       "\t& show\\_id & type & title & director & \\\\\n",
       "\t\\hline\n",
       "\t& Int64 & String & String & String? & \\\\\n",
       "\t\\hline\n",
       "\t1 & 81145628 & Movie & Norm of the North: King Sized Adventure & Richard Finn, Tim Maltby & $\\dots$ \\\\\n",
       "\t2 & 80117401 & Movie & Jandino: Whatever it Takes & \\emph{missing} & $\\dots$ \\\\\n",
       "\t3 & 70234439 & TV Show & Transformers Prime & \\emph{missing} & $\\dots$ \\\\\n",
       "\\end{tabular}\n"
      ],
      "text/plain": [
       "3×12 DataFrame. Omitted printing of 9 columns\n",
       "│ Row │ show_id  │ type    │ title                                   │\n",
       "│     │ \u001b[90mInt64\u001b[39m    │ \u001b[90mString\u001b[39m  │ \u001b[90mString\u001b[39m                                  │\n",
       "├─────┼──────────┼─────────┼─────────────────────────────────────────┤\n",
       "│ 1   │ 81145628 │ Movie   │ Norm of the North: King Sized Adventure │\n",
       "│ 2   │ 80117401 │ Movie   │ Jandino: Whatever it Takes              │\n",
       "│ 3   │ 70234439 │ TV Show │ Transformers Prime                      │"
      ]
     },
     "execution_count": 157,
     "metadata": {},
     "output_type": "execute_result"
    }
   ],
   "source": [
    "first(netflix_csv, 3)"
   ]
  },
  {
   "cell_type": "markdown",
   "metadata": {},
   "source": [
    "## 3. Срезы и обращение к данным"
   ]
  },
  {
   "cell_type": "code",
   "execution_count": 159,
   "metadata": {},
   "outputs": [
    {
     "data": {
      "text/plain": [
       "12-element Array{String,1}:\n",
       " \"show_id\"     \n",
       " \"type\"        \n",
       " \"title\"       \n",
       " \"director\"    \n",
       " \"cast\"        \n",
       " \"country\"     \n",
       " \"date_added\"  \n",
       " \"release_year\"\n",
       " \"rating\"      \n",
       " \"duration\"    \n",
       " \"listed_in\"   \n",
       " \"description\" "
      ]
     },
     "execution_count": 159,
     "metadata": {},
     "output_type": "execute_result"
    }
   ],
   "source": [
    "names(netflix_csv) # Column names can be obtained as strings using the names function:"
   ]
  },
  {
   "cell_type": "code",
   "execution_count": 160,
   "metadata": {},
   "outputs": [
    {
     "data": {
      "text/plain": [
       "12-element Array{Symbol,1}:\n",
       " :show_id     \n",
       " :type        \n",
       " :title       \n",
       " :director    \n",
       " :cast        \n",
       " :country     \n",
       " :date_added  \n",
       " :release_year\n",
       " :rating      \n",
       " :duration    \n",
       " :listed_in   \n",
       " :description "
      ]
     },
     "execution_count": 160,
     "metadata": {},
     "output_type": "execute_result"
    }
   ],
   "source": [
    "propertynames(netflix_csv) # To get column names as Symbols use the propertynames function:"
   ]
  },
  {
   "cell_type": "code",
   "execution_count": 161,
   "metadata": {},
   "outputs": [
    {
     "data": {
      "text/html": [
       "<table class=\"data-frame\"><thead><tr><th></th><th>show_id</th><th>type</th><th>title</th><th>director</th></tr><tr><th></th><th>Int64</th><th>String</th><th>String</th><th>String?</th></tr></thead><tbody><p>3 rows × 12 columns (omitted printing of 8 columns)</p><tr><th>1</th><td>81145628</td><td>Movie</td><td>Norm of the North: King Sized Adventure</td><td>Richard Finn, Tim Maltby</td></tr><tr><th>2</th><td>80117401</td><td>Movie</td><td>Jandino: Whatever it Takes</td><td><em>missing</em></td></tr><tr><th>3</th><td>70234439</td><td>TV Show</td><td>Transformers Prime</td><td><em>missing</em></td></tr></tbody></table>"
      ],
      "text/latex": [
       "\\begin{tabular}{r|ccccc}\n",
       "\t& show\\_id & type & title & director & \\\\\n",
       "\t\\hline\n",
       "\t& Int64 & String & String & String? & \\\\\n",
       "\t\\hline\n",
       "\t1 & 81145628 & Movie & Norm of the North: King Sized Adventure & Richard Finn, Tim Maltby & $\\dots$ \\\\\n",
       "\t2 & 80117401 & Movie & Jandino: Whatever it Takes & \\emph{missing} & $\\dots$ \\\\\n",
       "\t3 & 70234439 & TV Show & Transformers Prime & \\emph{missing} & $\\dots$ \\\\\n",
       "\\end{tabular}\n"
      ],
      "text/plain": [
       "3×12 DataFrame. Omitted printing of 9 columns\n",
       "│ Row │ show_id  │ type    │ title                                   │\n",
       "│     │ \u001b[90mInt64\u001b[39m    │ \u001b[90mString\u001b[39m  │ \u001b[90mString\u001b[39m                                  │\n",
       "├─────┼──────────┼─────────┼─────────────────────────────────────────┤\n",
       "│ 1   │ 81145628 │ Movie   │ Norm of the North: King Sized Adventure │\n",
       "│ 2   │ 80117401 │ Movie   │ Jandino: Whatever it Takes              │\n",
       "│ 3   │ 70234439 │ TV Show │ Transformers Prime                      │"
      ]
     },
     "execution_count": 161,
     "metadata": {},
     "output_type": "execute_result"
    }
   ],
   "source": [
    "netflix_csv[1:3, :]"
   ]
  },
  {
   "cell_type": "code",
   "execution_count": 162,
   "metadata": {},
   "outputs": [
    {
     "data": {
      "text/html": [
       "<table class=\"data-frame\"><thead><tr><th></th><th>show_id</th><th>type</th><th>title</th><th>director</th></tr><tr><th></th><th>Int64</th><th>String</th><th>String</th><th>String?</th></tr></thead><tbody><p>3 rows × 12 columns (omitted printing of 8 columns)</p><tr><th>1</th><td>81145628</td><td>Movie</td><td>Norm of the North: King Sized Adventure</td><td>Richard Finn, Tim Maltby</td></tr><tr><th>2</th><td>80125979</td><td>Movie</td><td>#realityhigh</td><td>Fernando Lebrija</td></tr><tr><th>3</th><td>70304990</td><td>Movie</td><td>Good People</td><td>Henrik Ruben Genz</td></tr></tbody></table>"
      ],
      "text/latex": [
       "\\begin{tabular}{r|ccccc}\n",
       "\t& show\\_id & type & title & director & \\\\\n",
       "\t\\hline\n",
       "\t& Int64 & String & String & String? & \\\\\n",
       "\t\\hline\n",
       "\t1 & 81145628 & Movie & Norm of the North: King Sized Adventure & Richard Finn, Tim Maltby & $\\dots$ \\\\\n",
       "\t2 & 80125979 & Movie & \\#realityhigh & Fernando Lebrija & $\\dots$ \\\\\n",
       "\t3 & 70304990 & Movie & Good People & Henrik Ruben Genz & $\\dots$ \\\\\n",
       "\\end{tabular}\n"
      ],
      "text/plain": [
       "3×12 DataFrame. Omitted printing of 9 columns\n",
       "│ Row │ show_id  │ type   │ title                                   │\n",
       "│     │ \u001b[90mInt64\u001b[39m    │ \u001b[90mString\u001b[39m │ \u001b[90mString\u001b[39m                                  │\n",
       "├─────┼──────────┼────────┼─────────────────────────────────────────┤\n",
       "│ 1   │ 81145628 │ Movie  │ Norm of the North: King Sized Adventure │\n",
       "│ 2   │ 80125979 │ Movie  │ #realityhigh                            │\n",
       "│ 3   │ 70304990 │ Movie  │ Good People                             │"
      ]
     },
     "execution_count": 162,
     "metadata": {},
     "output_type": "execute_result"
    }
   ],
   "source": [
    "netflix_csv[[1, 5, 10], :]"
   ]
  },
  {
   "cell_type": "code",
   "execution_count": 199,
   "metadata": {},
   "outputs": [
    {
     "data": {
      "text/html": [
       "<table class=\"data-frame\"><thead><tr><th></th><th>country</th><th>director</th><th>rating</th><th>duration</th></tr><tr><th></th><th>String?</th><th>String?</th><th>String?</th><th>String</th></tr></thead><tbody><p>5 rows × 4 columns</p><tr><th>1</th><td>United States</td><td>Richard Finn, Tim Maltby</td><td>TV-PG</td><td>90 min</td></tr><tr><th>2</th><td>United States</td><td><em>missing</em></td><td>TV-MA</td><td>94 min</td></tr><tr><th>3</th><td>United States</td><td><em>missing</em></td><td>TV-Y7-FV</td><td>1 Season</td></tr><tr><th>4</th><td>United States</td><td><em>missing</em></td><td>TV-Y7</td><td>1 Season</td></tr><tr><th>5</th><td>United States</td><td>Fernando Lebrija</td><td>TV-14</td><td>99 min</td></tr></tbody></table>"
      ],
      "text/latex": [
       "\\begin{tabular}{r|cccc}\n",
       "\t& country & director & rating & duration\\\\\n",
       "\t\\hline\n",
       "\t& String? & String? & String? & String\\\\\n",
       "\t\\hline\n",
       "\t1 & United States & Richard Finn, Tim Maltby & TV-PG & 90 min \\\\\n",
       "\t2 & United States & \\emph{missing} & TV-MA & 94 min \\\\\n",
       "\t3 & United States & \\emph{missing} & TV-Y7-FV & 1 Season \\\\\n",
       "\t4 & United States & \\emph{missing} & TV-Y7 & 1 Season \\\\\n",
       "\t5 & United States & Fernando Lebrija & TV-14 & 99 min \\\\\n",
       "\\end{tabular}\n"
      ],
      "text/plain": [
       "5×4 DataFrame\n",
       "│ Row │ country       │ director                 │ rating   │ duration │\n",
       "│     │ \u001b[90mString?\u001b[39m       │ \u001b[90mUnion{Missing, String}\u001b[39m   │ \u001b[90mString?\u001b[39m  │ \u001b[90mString\u001b[39m   │\n",
       "├─────┼───────────────┼──────────────────────────┼──────────┼──────────┤\n",
       "│ 1   │ United States │ Richard Finn, Tim Maltby │ TV-PG    │ 90 min   │\n",
       "│ 2   │ United States │ \u001b[90mmissing\u001b[39m                  │ TV-MA    │ 94 min   │\n",
       "│ 3   │ United States │ \u001b[90mmissing\u001b[39m                  │ TV-Y7-FV │ 1 Season │\n",
       "│ 4   │ United States │ \u001b[90mmissing\u001b[39m                  │ TV-Y7    │ 1 Season │\n",
       "│ 5   │ United States │ Fernando Lebrija         │ TV-14    │ 99 min   │"
      ]
     },
     "execution_count": 199,
     "metadata": {},
     "output_type": "execute_result"
    }
   ],
   "source": [
    "netflix_csv[[1,2,3,4,5], [:country, :director, :rating, :duration]]"
   ]
  },
  {
   "cell_type": "code",
   "execution_count": 215,
   "metadata": {},
   "outputs": [
    {
     "data": {
      "text/html": [
       "<table class=\"data-frame\"><thead><tr><th></th><th>director</th><th>rating</th></tr><tr><th></th><th>String?</th><th>String?</th></tr></thead><tbody><p>6,234 rows × 2 columns</p><tr><th>1</th><td>Richard Sears</td><td>TV-MA</td></tr><tr><th>2</th><td>Richard Sears</td><td>TV-MA</td></tr><tr><th>3</th><td>Richard Sears</td><td>TV-MA</td></tr><tr><th>4</th><td>Richard Sears</td><td>TV-MA</td></tr><tr><th>5</th><td>Richard Sears</td><td>TV-MA</td></tr><tr><th>6</th><td>Richard Sears</td><td>TV-MA</td></tr><tr><th>7</th><td>Richard Sears</td><td>TV-MA</td></tr><tr><th>8</th><td>Richard Sears</td><td>TV-MA</td></tr><tr><th>9</th><td>Richard Sears</td><td>TV-MA</td></tr><tr><th>10</th><td>Richard Sears</td><td>TV-MA</td></tr><tr><th>11</th><td>Richard Sears</td><td>TV-MA</td></tr><tr><th>12</th><td>Richard Sears</td><td>TV-MA</td></tr><tr><th>13</th><td>Richard Sears</td><td>TV-MA</td></tr><tr><th>14</th><td>Richard Sears</td><td>TV-MA</td></tr><tr><th>15</th><td>Richard Sears</td><td>TV-MA</td></tr><tr><th>16</th><td>Richard Sears</td><td>TV-MA</td></tr><tr><th>17</th><td>Richard Sears</td><td>TV-MA</td></tr><tr><th>18</th><td>Richard Sears</td><td>TV-MA</td></tr><tr><th>19</th><td>Richard Sears</td><td>TV-MA</td></tr><tr><th>20</th><td>Richard Sears</td><td>TV-MA</td></tr><tr><th>21</th><td>Richard Sears</td><td>TV-MA</td></tr><tr><th>22</th><td>Richard Sears</td><td>TV-MA</td></tr><tr><th>23</th><td>Richard Sears</td><td>TV-MA</td></tr><tr><th>24</th><td>Richard Sears</td><td>TV-MA</td></tr><tr><th>25</th><td>Richard Sears</td><td>TV-MA</td></tr><tr><th>26</th><td>Richard Sears</td><td>TV-MA</td></tr><tr><th>27</th><td>Richard Sears</td><td>TV-MA</td></tr><tr><th>28</th><td>Richard Sears</td><td>TV-MA</td></tr><tr><th>29</th><td>Richard Sears</td><td>TV-MA</td></tr><tr><th>30</th><td>Richard Sears</td><td>TV-MA</td></tr><tr><th>&vellip;</th><td>&vellip;</td><td>&vellip;</td></tr></tbody></table>"
      ],
      "text/latex": [
       "\\begin{tabular}{r|cc}\n",
       "\t& director & rating\\\\\n",
       "\t\\hline\n",
       "\t& String? & String?\\\\\n",
       "\t\\hline\n",
       "\t1 & Richard Sears & TV-MA \\\\\n",
       "\t2 & Richard Sears & TV-MA \\\\\n",
       "\t3 & Richard Sears & TV-MA \\\\\n",
       "\t4 & Richard Sears & TV-MA \\\\\n",
       "\t5 & Richard Sears & TV-MA \\\\\n",
       "\t6 & Richard Sears & TV-MA \\\\\n",
       "\t7 & Richard Sears & TV-MA \\\\\n",
       "\t8 & Richard Sears & TV-MA \\\\\n",
       "\t9 & Richard Sears & TV-MA \\\\\n",
       "\t10 & Richard Sears & TV-MA \\\\\n",
       "\t11 & Richard Sears & TV-MA \\\\\n",
       "\t12 & Richard Sears & TV-MA \\\\\n",
       "\t13 & Richard Sears & TV-MA \\\\\n",
       "\t14 & Richard Sears & TV-MA \\\\\n",
       "\t15 & Richard Sears & TV-MA \\\\\n",
       "\t16 & Richard Sears & TV-MA \\\\\n",
       "\t17 & Richard Sears & TV-MA \\\\\n",
       "\t18 & Richard Sears & TV-MA \\\\\n",
       "\t19 & Richard Sears & TV-MA \\\\\n",
       "\t20 & Richard Sears & TV-MA \\\\\n",
       "\t21 & Richard Sears & TV-MA \\\\\n",
       "\t22 & Richard Sears & TV-MA \\\\\n",
       "\t23 & Richard Sears & TV-MA \\\\\n",
       "\t24 & Richard Sears & TV-MA \\\\\n",
       "\t25 & Richard Sears & TV-MA \\\\\n",
       "\t26 & Richard Sears & TV-MA \\\\\n",
       "\t27 & Richard Sears & TV-MA \\\\\n",
       "\t28 & Richard Sears & TV-MA \\\\\n",
       "\t29 & Richard Sears & TV-MA \\\\\n",
       "\t30 & Richard Sears & TV-MA \\\\\n",
       "\t$\\dots$ & $\\dots$ & $\\dots$ \\\\\n",
       "\\end{tabular}\n"
      ],
      "text/plain": [
       "6234×2 DataFrame\n",
       "│ Row  │ director      │ rating  │\n",
       "│      │ \u001b[90mString?\u001b[39m       │ \u001b[90mString?\u001b[39m │\n",
       "├──────┼───────────────┼─────────┤\n",
       "│ 1    │ Richard Sears │ TV-MA   │\n",
       "│ 2    │ Richard Sears │ TV-MA   │\n",
       "│ 3    │ Richard Sears │ TV-MA   │\n",
       "│ 4    │ Richard Sears │ TV-MA   │\n",
       "│ 5    │ Richard Sears │ TV-MA   │\n",
       "│ 6    │ Richard Sears │ TV-MA   │\n",
       "│ 7    │ Richard Sears │ TV-MA   │\n",
       "│ 8    │ Richard Sears │ TV-MA   │\n",
       "│ 9    │ Richard Sears │ TV-MA   │\n",
       "│ 10   │ Richard Sears │ TV-MA   │\n",
       "⋮\n",
       "│ 6224 │ Richard Sears │ TV-MA   │\n",
       "│ 6225 │ Richard Sears │ TV-MA   │\n",
       "│ 6226 │ Richard Sears │ TV-MA   │\n",
       "│ 6227 │ Richard Sears │ TV-MA   │\n",
       "│ 6228 │ Richard Sears │ TV-MA   │\n",
       "│ 6229 │ Richard Sears │ TV-MA   │\n",
       "│ 6230 │ Richard Sears │ TV-MA   │\n",
       "│ 6231 │ Richard Sears │ TV-MA   │\n",
       "│ 6232 │ Richard Sears │ TV-MA   │\n",
       "│ 6233 │ Richard Sears │ TV-MA   │\n",
       "│ 6234 │ Richard Sears │ TV-MA   │"
      ]
     },
     "execution_count": 215,
     "metadata": {},
     "output_type": "execute_result"
    }
   ],
   "source": [
    "netflix_csv[netflix_csv.release_year .=2000, [:director, :rating]]"
   ]
  },
  {
   "cell_type": "code",
   "execution_count": 65,
   "metadata": {},
   "outputs": [
    {
     "ename": "UndefVarError",
     "evalue": "UndefVarError: netflix_csv not defined",
     "output_type": "error",
     "traceback": [
      "UndefVarError: netflix_csv not defined",
      "",
      "Stacktrace:",
      " [1] top-level scope at In[65]:1"
     ]
    }
   ],
   "source": [
    "netflix_csv[netflix_csv.country .=\"United States\", [:director, :rating]]"
   ]
  },
  {
   "cell_type": "code",
   "execution_count": 195,
   "metadata": {},
   "outputs": [
    {
     "data": {
      "text/plain": [
       "8-element Array{String,1}:\n",
       " \"variable\"\n",
       " \"mean\"    \n",
       " \"min\"     \n",
       " \"median\"  \n",
       " \"max\"     \n",
       " \"nunique\" \n",
       " \"nmissing\"\n",
       " \"eltype\"  "
      ]
     },
     "execution_count": 195,
     "metadata": {},
     "output_type": "execute_result"
    }
   ],
   "source": [
    "descr = describe(netflix_csv)\n",
    "names(descr)"
   ]
  },
  {
   "cell_type": "code",
   "execution_count": 198,
   "metadata": {},
   "outputs": [
    {
     "name": "stderr",
     "output_type": "stream",
     "text": [
      "┌ Warning: `getindex(df::DataFrame, col_inds::Union{AbstractVector, Regex, Not})` is deprecated, use `df[:, col_inds]` instead.\n",
      "│   caller = top-level scope at In[198]:1\n",
      "└ @ Core In[198]:1\n"
     ]
    },
    {
     "data": {
      "text/html": [
       "<table class=\"data-frame\"><thead><tr><th></th><th>variable</th><th>eltype</th></tr><tr><th></th><th>Symbol</th><th>Type</th></tr></thead><tbody><p>12 rows × 2 columns</p><tr><th>1</th><td>show_id</td><td>Int64</td></tr><tr><th>2</th><td>type</td><td>String</td></tr><tr><th>3</th><td>title</td><td>String</td></tr><tr><th>4</th><td>director</td><td>Union{Missing, String}</td></tr><tr><th>5</th><td>cast</td><td>Union{Missing, String}</td></tr><tr><th>6</th><td>country</td><td>Union{Missing, String}</td></tr><tr><th>7</th><td>date_added</td><td>Union{Missing, String}</td></tr><tr><th>8</th><td>release_year</td><td>Int64</td></tr><tr><th>9</th><td>rating</td><td>Union{Missing, String}</td></tr><tr><th>10</th><td>duration</td><td>String</td></tr><tr><th>11</th><td>listed_in</td><td>String</td></tr><tr><th>12</th><td>description</td><td>String</td></tr></tbody></table>"
      ],
      "text/latex": [
       "\\begin{tabular}{r|cc}\n",
       "\t& variable & eltype\\\\\n",
       "\t\\hline\n",
       "\t& Symbol & Type\\\\\n",
       "\t\\hline\n",
       "\t1 & show\\_id & Int64 \\\\\n",
       "\t2 & type & String \\\\\n",
       "\t3 & title & String \\\\\n",
       "\t4 & director & Union\\{Missing, String\\} \\\\\n",
       "\t5 & cast & Union\\{Missing, String\\} \\\\\n",
       "\t6 & country & Union\\{Missing, String\\} \\\\\n",
       "\t7 & date\\_added & Union\\{Missing, String\\} \\\\\n",
       "\t8 & release\\_year & Int64 \\\\\n",
       "\t9 & rating & Union\\{Missing, String\\} \\\\\n",
       "\t10 & duration & String \\\\\n",
       "\t11 & listed\\_in & String \\\\\n",
       "\t12 & description & String \\\\\n",
       "\\end{tabular}\n"
      ],
      "text/plain": [
       "12×2 DataFrame\n",
       "│ Row │ variable     │ eltype                 │\n",
       "│     │ \u001b[90mSymbol\u001b[39m       │ \u001b[90mType\u001b[39m                   │\n",
       "├─────┼──────────────┼────────────────────────┤\n",
       "│ 1   │ show_id      │ Int64                  │\n",
       "│ 2   │ type         │ String                 │\n",
       "│ 3   │ title        │ String                 │\n",
       "│ 4   │ director     │ Union{Missing, String} │\n",
       "│ 5   │ cast         │ Union{Missing, String} │\n",
       "│ 6   │ country      │ Union{Missing, String} │\n",
       "│ 7   │ date_added   │ Union{Missing, String} │\n",
       "│ 8   │ release_year │ Int64                  │\n",
       "│ 9   │ rating       │ Union{Missing, String} │\n",
       "│ 10  │ duration     │ String                 │\n",
       "│ 11  │ listed_in    │ String                 │\n",
       "│ 12  │ description  │ String                 │"
      ]
     },
     "execution_count": 198,
     "metadata": {},
     "output_type": "execute_result"
    }
   ],
   "source": [
    "descr[[:variable, :eltype]]"
   ]
  },
  {
   "cell_type": "markdown",
   "metadata": {},
   "source": [
    "## 4. Аггрегация данных"
   ]
  },
  {
   "cell_type": "code",
   "execution_count": 66,
   "metadata": {},
   "outputs": [],
   "source": [
    "colors = DataFrame(color_id = 1:5, color=[\"Черный\", \"Голубой\", \"Белый\", \"Желтый\", \"Амарантово-Пурпурный\"])\n",
    "\n",
    "socks = DataFrame(socks_id = 1:8,\n",
    "    name = [\"Снежана\", \"Кирилл\", \"Иосиф\", \"Инокентий\",\"Африкан\",\"Аркадий\", \"Маруся\", \"Вальдемар\"],\n",
    "    color_id = [1,2,1,3,1,5,4,2])\n",
    "\n",
    "qt_washing = DataFrame(socks_id = [1,2,3,4,5,6,7,8], qt_wash = [10,20,15,42,12,17,27,32])\n",
    "print()"
   ]
  },
  {
   "cell_type": "code",
   "execution_count": 67,
   "metadata": {},
   "outputs": [
    {
     "data": {
      "text/html": [
       "<table class=\"data-frame\"><thead><tr><th></th><th>socks_id</th><th>name</th><th>color_id</th><th>color</th></tr><tr><th></th><th>Int64</th><th>String</th><th>Int64</th><th>String</th></tr></thead><tbody><p>8 rows × 4 columns</p><tr><th>1</th><td>1</td><td>Снежана</td><td>1</td><td>Черный</td></tr><tr><th>2</th><td>2</td><td>Кирилл</td><td>2</td><td>Голубой</td></tr><tr><th>3</th><td>3</td><td>Иосиф</td><td>1</td><td>Черный</td></tr><tr><th>4</th><td>4</td><td>Инокентий</td><td>3</td><td>Белый</td></tr><tr><th>5</th><td>5</td><td>Африкан</td><td>1</td><td>Черный</td></tr><tr><th>6</th><td>6</td><td>Аркадий</td><td>5</td><td>Амарантово-Пурпурный</td></tr><tr><th>7</th><td>7</td><td>Маруся</td><td>4</td><td>Желтый</td></tr><tr><th>8</th><td>8</td><td>Вальдемар</td><td>2</td><td>Голубой</td></tr></tbody></table>"
      ],
      "text/latex": [
       "\\begin{tabular}{r|cccc}\n",
       "\t& socks\\_id & name & color\\_id & color\\\\\n",
       "\t\\hline\n",
       "\t& Int64 & String & Int64 & String\\\\\n",
       "\t\\hline\n",
       "\t1 & 1 & Снежана & 1 & Черный \\\\\n",
       "\t2 & 2 & Кирилл & 2 & Голубой \\\\\n",
       "\t3 & 3 & Иосиф & 1 & Черный \\\\\n",
       "\t4 & 4 & Инокентий & 3 & Белый \\\\\n",
       "\t5 & 5 & Африкан & 1 & Черный \\\\\n",
       "\t6 & 6 & Аркадий & 5 & Амарантово-Пурпурный \\\\\n",
       "\t7 & 7 & Маруся & 4 & Желтый \\\\\n",
       "\t8 & 8 & Вальдемар & 2 & Голубой \\\\\n",
       "\\end{tabular}\n"
      ],
      "text/plain": [
       "8×4 DataFrame\n",
       "│ Row │ socks_id │ name      │ color_id │ color                │\n",
       "│     │ \u001b[90mInt64\u001b[39m    │ \u001b[90mString\u001b[39m    │ \u001b[90mInt64\u001b[39m    │ \u001b[90mString\u001b[39m               │\n",
       "├─────┼──────────┼───────────┼──────────┼──────────────────────┤\n",
       "│ 1   │ 1        │ Снежана   │ 1        │ Черный               │\n",
       "│ 2   │ 2        │ Кирилл    │ 2        │ Голубой              │\n",
       "│ 3   │ 3        │ Иосиф     │ 1        │ Черный               │\n",
       "│ 4   │ 4        │ Инокентий │ 3        │ Белый                │\n",
       "│ 5   │ 5        │ Африкан   │ 1        │ Черный               │\n",
       "│ 6   │ 6        │ Аркадий   │ 5        │ Амарантово-Пурпурный │\n",
       "│ 7   │ 7        │ Маруся    │ 4        │ Желтый               │\n",
       "│ 8   │ 8        │ Вальдемар │ 2        │ Голубой              │"
      ]
     },
     "execution_count": 67,
     "metadata": {},
     "output_type": "execute_result"
    }
   ],
   "source": [
    "socks_with_color = innerjoin(socks, colors, on=\"color_id\")"
   ]
  },
  {
   "cell_type": "code",
   "execution_count": 68,
   "metadata": {},
   "outputs": [
    {
     "data": {
      "text/html": [
       "<table class=\"data-frame\"><thead><tr><th></th><th>socks_id</th><th>name</th><th>color</th><th>qt_wash</th></tr><tr><th></th><th>Int64</th><th>String</th><th>String</th><th>Int64?</th></tr></thead><tbody><p>8 rows × 4 columns</p><tr><th>1</th><td>1</td><td>Снежана</td><td>Черный</td><td>10</td></tr><tr><th>2</th><td>2</td><td>Кирилл</td><td>Голубой</td><td>20</td></tr><tr><th>3</th><td>3</td><td>Иосиф</td><td>Черный</td><td>15</td></tr><tr><th>4</th><td>4</td><td>Инокентий</td><td>Белый</td><td>42</td></tr><tr><th>5</th><td>5</td><td>Африкан</td><td>Черный</td><td>12</td></tr><tr><th>6</th><td>6</td><td>Аркадий</td><td>Амарантово-Пурпурный</td><td>17</td></tr><tr><th>7</th><td>7</td><td>Маруся</td><td>Желтый</td><td>27</td></tr><tr><th>8</th><td>8</td><td>Вальдемар</td><td>Голубой</td><td>32</td></tr></tbody></table>"
      ],
      "text/latex": [
       "\\begin{tabular}{r|cccc}\n",
       "\t& socks\\_id & name & color & qt\\_wash\\\\\n",
       "\t\\hline\n",
       "\t& Int64 & String & String & Int64?\\\\\n",
       "\t\\hline\n",
       "\t1 & 1 & Снежана & Черный & 10 \\\\\n",
       "\t2 & 2 & Кирилл & Голубой & 20 \\\\\n",
       "\t3 & 3 & Иосиф & Черный & 15 \\\\\n",
       "\t4 & 4 & Инокентий & Белый & 42 \\\\\n",
       "\t5 & 5 & Африкан & Черный & 12 \\\\\n",
       "\t6 & 6 & Аркадий & Амарантово-Пурпурный & 17 \\\\\n",
       "\t7 & 7 & Маруся & Желтый & 27 \\\\\n",
       "\t8 & 8 & Вальдемар & Голубой & 32 \\\\\n",
       "\\end{tabular}\n"
      ],
      "text/plain": [
       "8×4 DataFrame\n",
       "│ Row │ socks_id │ name      │ color                │ qt_wash │\n",
       "│     │ \u001b[90mInt64\u001b[39m    │ \u001b[90mString\u001b[39m    │ \u001b[90mString\u001b[39m               │ \u001b[90mInt64?\u001b[39m  │\n",
       "├─────┼──────────┼───────────┼──────────────────────┼─────────┤\n",
       "│ 1   │ 1        │ Снежана   │ Черный               │ 10      │\n",
       "│ 2   │ 2        │ Кирилл    │ Голубой              │ 20      │\n",
       "│ 3   │ 3        │ Иосиф     │ Черный               │ 15      │\n",
       "│ 4   │ 4        │ Инокентий │ Белый                │ 42      │\n",
       "│ 5   │ 5        │ Африкан   │ Черный               │ 12      │\n",
       "│ 6   │ 6        │ Аркадий   │ Амарантово-Пурпурный │ 17      │\n",
       "│ 7   │ 7        │ Маруся    │ Желтый               │ 27      │\n",
       "│ 8   │ 8        │ Вальдемар │ Голубой              │ 32      │"
      ]
     },
     "execution_count": 68,
     "metadata": {},
     "output_type": "execute_result"
    }
   ],
   "source": [
    "full_info = leftjoin(socks_with_color[:, [:socks_id, :name, :color]], qt_washing, on=\"socks_id\")"
   ]
  },
  {
   "cell_type": "code",
   "execution_count": 69,
   "metadata": {},
   "outputs": [
    {
     "data": {
      "text/html": [
       "<p><b>GroupedDataFrame with 5 groups based on key: color</b></p><p><i>First Group (3 rows): color = \"Черный\"</i></p><table class=\"data-frame\"><thead><tr><th></th><th>socks_id</th><th>name</th><th>color</th><th>qt_wash</th></tr><tr><th></th><th>Int64</th><th>String</th><th>String</th><th>Int64?</th></tr></thead><tbody><tr><th>1</th><td>1</td><td>Снежана</td><td>Черный</td><td>10</td></tr><tr><th>2</th><td>3</td><td>Иосиф</td><td>Черный</td><td>15</td></tr><tr><th>3</th><td>5</td><td>Африкан</td><td>Черный</td><td>12</td></tr></tbody></table><p>&vellip;</p><p><i>Last Group (1 row): color = \"Желтый\"</i></p><table class=\"data-frame\"><thead><tr><th></th><th>socks_id</th><th>name</th><th>color</th><th>qt_wash</th></tr><tr><th></th><th>Int64</th><th>String</th><th>String</th><th>Int64?</th></tr></thead><tbody><tr><th>1</th><td>7</td><td>Маруся</td><td>Желтый</td><td>27</td></tr></tbody></table>"
      ],
      "text/latex": [
       "GroupedDataFrame with 5 groups based on key: color\n",
       "\n",
       "First Group (3 rows): color = \"Черный\"\n",
       "\n",
       "\\begin{tabular}{r|cccc}\n",
       "\t& socks\\_id & name & color & qt\\_wash\\\\\n",
       "\t\\hline\n",
       "\t& Int64 & String & String & Int64?\\\\\n",
       "\t\\hline\n",
       "\t1 & 1 & Снежана & Черный & 10 \\\\\n",
       "\t2 & 3 & Иосиф & Черный & 15 \\\\\n",
       "\t3 & 5 & Африкан & Черный & 12 \\\\\n",
       "\\end{tabular}\n",
       "\n",
       "$\\dots$\n",
       "\n",
       "Last Group (1 row): color = \"Желтый\"\n",
       "\n",
       "\\begin{tabular}{r|cccc}\n",
       "\t& socks\\_id & name & color & qt\\_wash\\\\\n",
       "\t\\hline\n",
       "\t& Int64 & String & String & Int64?\\\\\n",
       "\t\\hline\n",
       "\t1 & 7 & Маруся & Желтый & 27 \\\\\n",
       "\\end{tabular}\n"
      ],
      "text/plain": [
       "GroupedDataFrame with 5 groups based on key: color\n",
       "First Group (3 rows): color = \"Черный\"\n",
       "│ Row │ socks_id │ name    │ color  │ qt_wash │\n",
       "│     │ \u001b[90mInt64\u001b[39m    │ \u001b[90mString\u001b[39m  │ \u001b[90mString\u001b[39m │ \u001b[90mInt64?\u001b[39m  │\n",
       "├─────┼──────────┼─────────┼────────┼─────────┤\n",
       "│ 1   │ 1        │ Снежана │ Черный │ 10      │\n",
       "│ 2   │ 3        │ Иосиф   │ Черный │ 15      │\n",
       "│ 3   │ 5        │ Африкан │ Черный │ 12      │\n",
       "⋮\n",
       "Last Group (1 row): color = \"Желтый\"\n",
       "│ Row │ socks_id │ name   │ color  │ qt_wash │\n",
       "│     │ \u001b[90mInt64\u001b[39m    │ \u001b[90mString\u001b[39m │ \u001b[90mString\u001b[39m │ \u001b[90mInt64?\u001b[39m  │\n",
       "├─────┼──────────┼────────┼────────┼─────────┤\n",
       "│ 1   │ 7        │ Маруся │ Желтый │ 27      │"
      ]
     },
     "execution_count": 69,
     "metadata": {},
     "output_type": "execute_result"
    }
   ],
   "source": [
    "grouped = groupby(full_info, :color)"
   ]
  },
  {
   "cell_type": "code",
   "execution_count": 70,
   "metadata": {},
   "outputs": [
    {
     "data": {
      "text/html": [
       "<table class=\"data-frame\"><thead><tr><th></th><th>color</th><th>nrow</th></tr><tr><th></th><th>String</th><th>Int64</th></tr></thead><tbody><p>5 rows × 2 columns</p><tr><th>1</th><td>Черный</td><td>3</td></tr><tr><th>2</th><td>Голубой</td><td>2</td></tr><tr><th>3</th><td>Белый</td><td>1</td></tr><tr><th>4</th><td>Амарантово-Пурпурный</td><td>1</td></tr><tr><th>5</th><td>Желтый</td><td>1</td></tr></tbody></table>"
      ],
      "text/latex": [
       "\\begin{tabular}{r|cc}\n",
       "\t& color & nrow\\\\\n",
       "\t\\hline\n",
       "\t& String & Int64\\\\\n",
       "\t\\hline\n",
       "\t1 & Черный & 3 \\\\\n",
       "\t2 & Голубой & 2 \\\\\n",
       "\t3 & Белый & 1 \\\\\n",
       "\t4 & Амарантово-Пурпурный & 1 \\\\\n",
       "\t5 & Желтый & 1 \\\\\n",
       "\\end{tabular}\n"
      ],
      "text/plain": [
       "5×2 DataFrame\n",
       "│ Row │ color                │ nrow  │\n",
       "│     │ \u001b[90mString\u001b[39m               │ \u001b[90mInt64\u001b[39m │\n",
       "├─────┼──────────────────────┼───────┤\n",
       "│ 1   │ Черный               │ 3     │\n",
       "│ 2   │ Голубой              │ 2     │\n",
       "│ 3   │ Белый                │ 1     │\n",
       "│ 4   │ Амарантово-Пурпурный │ 1     │\n",
       "│ 5   │ Желтый               │ 1     │"
      ]
     },
     "execution_count": 70,
     "metadata": {},
     "output_type": "execute_result"
    }
   ],
   "source": [
    "combine(grouped, nrow)"
   ]
  },
  {
   "cell_type": "code",
   "execution_count": 72,
   "metadata": {},
   "outputs": [
    {
     "data": {
      "text/html": [
       "<table class=\"data-frame\"><thead><tr><th></th><th>color</th><th>nrow</th><th>mean</th></tr><tr><th></th><th>String</th><th>Int64</th><th>Float64</th></tr></thead><tbody><p>5 rows × 3 columns</p><tr><th>1</th><td>Черный</td><td>3</td><td>12.3333</td></tr><tr><th>2</th><td>Голубой</td><td>2</td><td>26.0</td></tr><tr><th>3</th><td>Белый</td><td>1</td><td>42.0</td></tr><tr><th>4</th><td>Амарантово-Пурпурный</td><td>1</td><td>17.0</td></tr><tr><th>5</th><td>Желтый</td><td>1</td><td>27.0</td></tr></tbody></table>"
      ],
      "text/latex": [
       "\\begin{tabular}{r|ccc}\n",
       "\t& color & nrow & mean\\\\\n",
       "\t\\hline\n",
       "\t& String & Int64 & Float64\\\\\n",
       "\t\\hline\n",
       "\t1 & Черный & 3 & 12.3333 \\\\\n",
       "\t2 & Голубой & 2 & 26.0 \\\\\n",
       "\t3 & Белый & 1 & 42.0 \\\\\n",
       "\t4 & Амарантово-Пурпурный & 1 & 17.0 \\\\\n",
       "\t5 & Желтый & 1 & 27.0 \\\\\n",
       "\\end{tabular}\n"
      ],
      "text/plain": [
       "5×3 DataFrame\n",
       "│ Row │ color                │ nrow  │ mean    │\n",
       "│     │ \u001b[90mString\u001b[39m               │ \u001b[90mInt64\u001b[39m │ \u001b[90mFloat64\u001b[39m │\n",
       "├─────┼──────────────────────┼───────┼─────────┤\n",
       "│ 1   │ Черный               │ 3     │ 12.3333 │\n",
       "│ 2   │ Голубой              │ 2     │ 26.0    │\n",
       "│ 3   │ Белый                │ 1     │ 42.0    │\n",
       "│ 4   │ Амарантово-Пурпурный │ 1     │ 17.0    │\n",
       "│ 5   │ Желтый               │ 1     │ 27.0    │"
      ]
     },
     "execution_count": 72,
     "metadata": {},
     "output_type": "execute_result"
    }
   ],
   "source": [
    "combine(grouped, nrow, :qt_wash => mean => :mean)"
   ]
  },
  {
   "cell_type": "markdown",
   "metadata": {},
   "source": [
    "Для более сложных манипуляций с DataFrame'ами существуют разные модули, например: [DataFramesMeta.jl](https://github.com/JuliaData/DataFramesMeta.jl) and [Query.jl](http://www.queryverse.org/Query.jl/stable/). "
   ]
  }
 ],
 "metadata": {
  "kernelspec": {
   "display_name": "Julia 1.3.1",
   "language": "julia",
   "name": "julia-1.3"
  },
  "language_info": {
   "file_extension": ".jl",
   "mimetype": "application/julia",
   "name": "julia",
   "version": "1.3.1"
  }
 },
 "nbformat": 4,
 "nbformat_minor": 4
}
