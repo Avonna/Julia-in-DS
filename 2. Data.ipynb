{
 "cells": [
  {
   "cell_type": "markdown",
   "metadata": {},
   "source": [
    "# Урок 2. Работа с данными."
   ]
  },
  {
   "cell_type": "code",
   "execution_count": null,
   "metadata": {},
   "outputs": [],
   "source": [
    "import Pkg;\n",
    "Pkg.add(\"CSV\")\n",
    "Pkg.add(\"DataFrames\")\n",
    "Pkg.add(\"DelimitedFiles\")"
   ]
  },
  {
   "cell_type": "code",
   "execution_count": null,
   "metadata": {},
   "outputs": [],
   "source": [
    "using CSV  # Чтение и запись CSV файлов\n",
    "using DataFrames  # Create a data structure\n",
    "using DelimitedFiles # Работа с файлами с разделителями\n",
    "using Statistics # Модуль для работы со статистическими данными\n",
    "# using XLSX"
   ]
  },
  {
   "cell_type": "markdown",
   "metadata": {},
   "source": [
    "## 1. Линейная алгебра"
   ]
  },
  {
   "cell_type": "code",
   "execution_count": null,
   "metadata": {},
   "outputs": [],
   "source": [
    "A = rand(5,5); # Создадим матрицу размером 5x5\n",
    "A_t = A' # Транспонирование матрицы\n",
    "A = A_t*A; # Умножение матриц\n",
    "A"
   ]
  },
  {
   "cell_type": "markdown",
   "metadata": {},
   "source": [
    "- `size()` Покажет размерность матрицы\n",
    "- `sizeof()` Покажет размер в байтах, а `typeof()` тип данных"
   ]
  },
  {
   "cell_type": "code",
   "execution_count": null,
   "metadata": {},
   "outputs": [],
   "source": [
    "size(A), sizeof(A), typeof(A)"
   ]
  },
  {
   "cell_type": "markdown",
   "metadata": {},
   "source": [
    "Обращаться к матрице можно по индексу строки и столбца, например так (Обратите внимание, они считаются с 1):"
   ]
  },
  {
   "cell_type": "code",
   "execution_count": null,
   "metadata": {},
   "outputs": [],
   "source": [
    "A[2,2]"
   ]
  },
  {
   "cell_type": "markdown",
   "metadata": {},
   "source": [
    "Или представить, что у нас длинный вектор (аналог операции `flatten`) и задать одним индексом:"
   ]
  },
  {
   "cell_type": "code",
   "execution_count": null,
   "metadata": {},
   "outputs": [],
   "source": [
    "A[7]"
   ]
  },
  {
   "cell_type": "markdown",
   "metadata": {},
   "source": [
    "## 2. Чтение файлов"
   ]
  },
  {
   "cell_type": "markdown",
   "metadata": {},
   "source": [
    "Возьмем [отсюда](https://www.kaggle.com/shivamb/netflix-shows) датасет и скачаем его, например так:"
   ]
  },
  {
   "cell_type": "code",
   "execution_count": null,
   "metadata": {},
   "outputs": [],
   "source": [
    "download(\"https://raw.githubusercontent.com/JuliaEvangelists/Julia-in-DS/main/data/netflix_titles.csv\",\n",
    "    \"netflix.csv\")"
   ]
  },
  {
   "cell_type": "markdown",
   "metadata": {},
   "source": [
    "Для чтения файлов с разделителями можно использовать стандартную библиотеку [DelimitedFiles](https://docs.julialang.org/en/v1/stdlib/DelimitedFiles/) и метода `readdlm`:"
   ]
  },
  {
   "cell_type": "code",
   "execution_count": null,
   "metadata": {},
   "outputs": [],
   "source": [
    "netflix, header = DelimitedFiles.readdlm(\"netflix.csv\", ',', header=true)\n",
    "\n",
    "println(\"header это: \", typeof(header), \" и имеет размерность \", size(header))\n",
    "println(\"netflix это: \", typeof(netflix), \" и имеет размерность \", size(netflix))"
   ]
  },
  {
   "cell_type": "markdown",
   "metadata": {},
   "source": [
    "В Python мы привыкли работать с табличными данными в виде Dataframe'ов. По аналогии с Pandas, пакет [DataFrames](https://juliadata.github.io/DataFrames.jl/stable/man/getting_started/) позволяет рабоотать с табличными данными придставляя их в виде Dataframe'ов. Объекты типа DataFrame представляют таблицу данных как серию векторов, каждый из которых соответствует столбцу или переменной. \n",
    "\n",
    "Создать DataFrame, можно просто передав кажду колонку как вектор: "
   ]
  },
  {
   "cell_type": "code",
   "execution_count": null,
   "metadata": {},
   "outputs": [],
   "source": [
    "df = DataFrame(Month = [\"Jan\", \"Feb\", \"March\"], Value = 1:3)"
   ]
  },
  {
   "cell_type": "markdown",
   "metadata": {},
   "source": [
    "Посмотрим на тип объекта `df`:"
   ]
  },
  {
   "cell_type": "code",
   "execution_count": null,
   "metadata": {},
   "outputs": [],
   "source": [
    "typeof(df)"
   ]
  },
  {
   "cell_type": "markdown",
   "metadata": {},
   "source": [
    "Теперь можно добавлять столбцы или строки:"
   ]
  },
  {
   "cell_type": "code",
   "execution_count": null,
   "metadata": {},
   "outputs": [],
   "source": [
    "old_size = size(df)\n",
    "df.Year = ones(3)*2020\n",
    "col_add_size = size(df)\n",
    "print(\"фрейм размером \",old_size, \" стал \",  col_add_size)\n",
    "df"
   ]
  },
  {
   "cell_type": "code",
   "execution_count": null,
   "metadata": {},
   "outputs": [],
   "source": [
    "push!(df, (\"April\", 4, 2020))\n",
    "print(\"фрейм размером \",col_add_size, \" стал \",  size(df))"
   ]
  },
  {
   "cell_type": "markdown",
   "metadata": {},
   "source": [
    "Конечно мы можем создать DataFrame и на основе матрицы:"
   ]
  },
  {
   "cell_type": "code",
   "execution_count": null,
   "metadata": {},
   "outputs": [],
   "source": [
    "netflix_df = DataFrame(netflix)\n",
    "first(netflix_df, 3)"
   ]
  },
  {
   "cell_type": "code",
   "execution_count": null,
   "metadata": {},
   "outputs": [],
   "source": [
    "last(netflix_df, 3)"
   ]
  },
  {
   "cell_type": "markdown",
   "metadata": {},
   "source": [
    "Лучшим вариантом создать DataFrame может быть прямо при чтении CSV файла c помощью пакета [CSV](https://juliadata.github.io/CSV.jl/stable/)     "
   ]
  },
  {
   "cell_type": "code",
   "execution_count": null,
   "metadata": {},
   "outputs": [],
   "source": [
    "netflix_csv = CSV.read(\"netflix.csv\");\n",
    "typeof(netflix_csv), typeof(netflix_df)"
   ]
  },
  {
   "cell_type": "code",
   "execution_count": null,
   "metadata": {},
   "outputs": [],
   "source": [
    "first(netflix_csv, 3)"
   ]
  },
  {
   "cell_type": "markdown",
   "metadata": {},
   "source": [
    "## 3. Срезы и обращение к данным"
   ]
  },
  {
   "cell_type": "code",
   "execution_count": null,
   "metadata": {},
   "outputs": [],
   "source": [
    "names(netflix_csv) # Column names can be obtained as strings using the names function:"
   ]
  },
  {
   "cell_type": "code",
   "execution_count": null,
   "metadata": {},
   "outputs": [],
   "source": [
    "propertynames(netflix_csv) # To get column names as Symbols use the propertynames function:"
   ]
  },
  {
   "cell_type": "code",
   "execution_count": null,
   "metadata": {},
   "outputs": [],
   "source": [
    "netflix_csv[1:3, :]"
   ]
  },
  {
   "cell_type": "code",
   "execution_count": null,
   "metadata": {},
   "outputs": [],
   "source": [
    "netflix_csv[[1, 5, 10], :]"
   ]
  },
  {
   "cell_type": "code",
   "execution_count": null,
   "metadata": {},
   "outputs": [],
   "source": [
    "netflix_csv[[1,2,3,4,5], [:country, :director, :rating, :duration]]"
   ]
  },
  {
   "cell_type": "code",
   "execution_count": null,
   "metadata": {},
   "outputs": [],
   "source": [
    "netflix_csv[netflix_csv.release_year .=2000, [:director, :rating]]"
   ]
  },
  {
   "cell_type": "code",
   "execution_count": null,
   "metadata": {},
   "outputs": [],
   "source": [
    "netflix_csv[netflix_csv.country .=\"United States\", [:director, :rating]]"
   ]
  },
  {
   "cell_type": "code",
   "execution_count": null,
   "metadata": {},
   "outputs": [],
   "source": [
    "descr = describe(netflix_csv)\n",
    "names(descr)"
   ]
  },
  {
   "cell_type": "code",
   "execution_count": null,
   "metadata": {},
   "outputs": [],
   "source": [
    "descr[[:variable, :eltype]]"
   ]
  },
  {
   "cell_type": "markdown",
   "metadata": {},
   "source": [
    "## 4. Аггрегация данных"
   ]
  },
  {
   "cell_type": "code",
   "execution_count": null,
   "metadata": {},
   "outputs": [],
   "source": [
    "colors = DataFrame(color_id = 1:5, color=[\"Черный\", \"Голубой\", \"Белый\", \"Желтый\", \"Амарантово-Пурпурный\"])\n",
    "\n",
    "socks = DataFrame(socks_id = 1:8,\n",
    "    name = [\"Снежана\", \"Кирилл\", \"Иосиф\", \"Инокентий\",\"Африкан\",\"Аркадий\", \"Маруся\", \"Вальдемар\"],\n",
    "    color_id = [1,2,1,3,1,5,4,2])\n",
    "\n",
    "qt_washing = DataFrame(socks_id = [1,2,3,4,5,6,7,8], qt_wash = [10,20,15,42,12,17,27,32])\n",
    "print()"
   ]
  },
  {
   "cell_type": "code",
   "execution_count": null,
   "metadata": {},
   "outputs": [],
   "source": [
    "socks_with_color = innerjoin(socks, colors, on=\"color_id\")"
   ]
  },
  {
   "cell_type": "code",
   "execution_count": null,
   "metadata": {},
   "outputs": [],
   "source": [
    "full_info = leftjoin(socks_with_color[:, [:socks_id, :name, :color]], qt_washing, on=\"socks_id\")"
   ]
  },
  {
   "cell_type": "code",
   "execution_count": null,
   "metadata": {},
   "outputs": [],
   "source": [
    "grouped = groupby(full_info, :color)"
   ]
  },
  {
   "cell_type": "code",
   "execution_count": null,
   "metadata": {},
   "outputs": [],
   "source": [
    "combine(grouped, nrow)"
   ]
  },
  {
   "cell_type": "code",
   "execution_count": null,
   "metadata": {},
   "outputs": [],
   "source": [
    "combine(grouped, nrow, :qt_wash => mean => :mean)"
   ]
  },
  {
   "cell_type": "markdown",
   "metadata": {},
   "source": [
    "Для более сложных манипуляций с DataFrame'ами существуют разные модули, например: [DataFramesMeta.jl](https://github.com/JuliaData/DataFramesMeta.jl) and [Query.jl](http://www.queryverse.org/Query.jl/stable/). "
   ]
  }
 ],
 "metadata": {
  "kernelspec": {
   "display_name": "Julia 1.3.1",
   "language": "julia",
   "name": "julia-1.3"
  },
  "language_info": {
   "file_extension": ".jl",
   "mimetype": "application/julia",
   "name": "julia",
   "version": "1.3.1"
  }
 },
 "nbformat": 4,
 "nbformat_minor": 4
}
