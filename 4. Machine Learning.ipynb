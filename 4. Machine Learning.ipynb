{
 "cells": [
  {
   "cell_type": "markdown",
   "metadata": {},
   "source": [
    "# Урок 4. Машинное обучение"
   ]
  },
  {
   "cell_type": "markdown",
   "metadata": {},
   "source": [
    "Конечно, для Julia существует имплементация всеми любимого [ScikitLearn](https://github.com/cstjean/ScikitLearn.jl/). Прежде чем мы начнем, конечно нам нужно раздобыть данные, но чтобы далеко не ходить, мы просто возьмем данные из [Титаника](https://www.kaggle.com/c/titanic/data) и совсем чуть-чуть их подготовим"
   ]
  },
  {
   "cell_type": "code",
   "execution_count": null,
   "metadata": {},
   "outputs": [],
   "source": [
    "#import Pkg;\n",
    "#Pkg.add(\"HTTP\")\n",
    "#Pkg.add(\"ScikitLearn\")\n",
    "#Pkg.add(\"CategoricalArrays\")\n",
    "#Pkg.add(\"Revise\")\n",
    "#Pkg.add(\"DecisionTree\")"
   ]
  },
  {
   "cell_type": "code",
   "execution_count": null,
   "metadata": {},
   "outputs": [],
   "source": [
    "using CSV\n",
    "using HTTP # Модуль для работы с HTTP\n",
    "using DataFrames\n",
    "using ScikitLearn\n",
    "using CategoricalArrays # Модуль для работы с Категориальными переменными"
   ]
  },
  {
   "cell_type": "markdown",
   "metadata": {},
   "source": [
    "## 0. Подготовка данных"
   ]
  },
  {
   "cell_type": "code",
   "execution_count": null,
   "metadata": {},
   "outputs": [],
   "source": [
    "url_train = \"https://raw.githubusercontent.com/JuliaEvangelists/Julia-in-DS/main/data/titanic/train.csv\"\n",
    "url_test = \"https://raw.githubusercontent.com/JuliaEvangelists/Julia-in-DS/main/data/titanic/test.csv\""
   ]
  },
  {
   "cell_type": "markdown",
   "metadata": {},
   "source": [
    "Кстати, мы не рассказали Вам в уроке 2, но модуль [CSV](https://juliadata.github.io/CSV.jl/stable/) может использовать модуль [HTTP](https://juliaweb.github.io/HTTP.jl/stable/) для того чтобы взять данные которые доступны в интернете:"
   ]
  },
  {
   "cell_type": "code",
   "execution_count": null,
   "metadata": {
    "scrolled": true
   },
   "outputs": [],
   "source": [
    "train = CSV.read(HTTP.get(url_train).body)\n",
    "test = CSV.read(HTTP.get(url_test).body)\n",
    "\n",
    "size(train), size(test)"
   ]
  },
  {
   "cell_type": "code",
   "execution_count": null,
   "metadata": {},
   "outputs": [],
   "source": [
    "first(train, 5)"
   ]
  },
  {
   "cell_type": "markdown",
   "metadata": {},
   "source": [
    "Сделаем небольшие предобработки и для начала заменим пустые значения нулями, для этого воспользуемся методом `coalesce.`, подробнее о работе с пропусками можно ознакомиться [тут](http://juliadata.github.io/DataFrames.jl/stable/man/missing/)"
   ]
  },
  {
   "cell_type": "code",
   "execution_count": null,
   "metadata": {},
   "outputs": [],
   "source": [
    "train_ready = coalesce.(train, 0) \n",
    "test_ready = coalesce.(test, 0) \n",
    "@show "
   ]
  },
  {
   "cell_type": "markdown",
   "metadata": {},
   "source": [
    "Удалим бесполезные столбцы:"
   ]
  },
  {
   "cell_type": "code",
   "execution_count": null,
   "metadata": {},
   "outputs": [],
   "source": [
    "train_ready = select(train_ready, Not([:Name, :PassengerId, :Ticket, :Cabin]))\n",
    "test_ready = select(test_ready, Not([:Name, :PassengerId, :Ticket, :Cabin]))\n",
    "\n",
    "@show"
   ]
  },
  {
   "cell_type": "markdown",
   "metadata": {},
   "source": [
    "Затем, мы избавимся от текстовых данных. Еще один способ как работать с категориальными переменными Вы можете найти [тут](http://juliadata.github.io/DataFrames.jl/stable/man/categorical/)"
   ]
  },
  {
   "cell_type": "code",
   "execution_count": null,
   "metadata": {},
   "outputs": [],
   "source": [
    "unique(train_ready.Embarked), unique(train_ready.Sex)"
   ]
  },
  {
   "cell_type": "code",
   "execution_count": null,
   "metadata": {},
   "outputs": [],
   "source": [
    "train_ready.Sex = recode(train_ready.Sex, \"male\" => 1, \"female\" => 0)\n",
    "test_ready.Sex = recode(test_ready.Sex, \"male\" => 1, \"female\" => 0)\n",
    "@show"
   ]
  },
  {
   "cell_type": "markdown",
   "metadata": {},
   "source": [
    "Сделаем One Hot Encoding"
   ]
  },
  {
   "cell_type": "code",
   "execution_count": null,
   "metadata": {},
   "outputs": [],
   "source": [
    "train_ready.Embarked_S = recode(train_ready.Embarked, 0, \"S\" => 1)\n",
    "train_ready.Embarked_C = recode(train_ready.Embarked, 0, \"C\" => 1)\n",
    "train_ready.Embarked_Q = recode(train_ready.Embarked, 0, \"Q\" => 1)\n",
    "\n",
    "test_ready.Embarked_S = recode(test_ready.Embarked, 0, \"S\" => 1)\n",
    "test_ready.Embarked_C = recode(test_ready.Embarked, 0, \"C\" => 1)\n",
    "test_ready.Embarked_Q = recode(test_ready.Embarked, 0, \"Q\" => 1)\n",
    "\n",
    "\n",
    "train_ready = select(train_ready, Not([:Embarked]))\n",
    "test_ready = select(test_ready, Not([:Embarked]))\n",
    "\n",
    "first(train_ready, 3)"
   ]
  },
  {
   "cell_type": "markdown",
   "metadata": {},
   "source": [
    "Сформируем финальные датасеты:"
   ]
  },
  {
   "cell_type": "code",
   "execution_count": null,
   "metadata": {},
   "outputs": [],
   "source": [
    "X = convert(Array{Float64,2}, select(train_ready, Not(\"Survived\")))\n",
    "y = reshape(convert(Array, select(train_ready, \"Survived\")),  (891))\n",
    "\n",
    "test = convert(Array{Float64,2}, test_ready)\n",
    "@show"
   ]
  },
  {
   "cell_type": "markdown",
   "metadata": {},
   "source": [
    "## 1. Пора учить модельки"
   ]
  },
  {
   "cell_type": "markdown",
   "metadata": {},
   "source": [
    "\n",
    "Реализация [ScikitLearn](https://github.com/cstjean/ScikitLearn.jl/) в Julia поддерживает все классы из [оригинальной Python](https://scikit-learn.org/stable/index.html) библиотеки. \n",
    "\n",
    "Чтобы их импортировать можно использовать декоратор `@sk_import`, для демонстрации импортируем логистическую регрессию:"
   ]
  },
  {
   "cell_type": "code",
   "execution_count": null,
   "metadata": {},
   "outputs": [],
   "source": [
    "@sk_import linear_model: LogisticRegression"
   ]
  },
  {
   "cell_type": "markdown",
   "metadata": {},
   "source": [
    "Каждая такая модель поддерживает все гиперпараметры для настройки, давайте посмотрим их для логистической регрессии: "
   ]
  },
  {
   "cell_type": "code",
   "execution_count": null,
   "metadata": {},
   "outputs": [],
   "source": [
    "?LogisticRegression"
   ]
  },
  {
   "cell_type": "markdown",
   "metadata": {},
   "source": [
    "Создадим первую модель"
   ]
  },
  {
   "cell_type": "code",
   "execution_count": null,
   "metadata": {
    "scrolled": true
   },
   "outputs": [],
   "source": [
    "model = LogisticRegression(fit_intercept=true, max_iter = 200)"
   ]
  },
  {
   "cell_type": "markdown",
   "metadata": {},
   "source": [
    "Как видите, она является `PyObject` и теперь мы можем:\n",
    "- обучить ее"
   ]
  },
  {
   "cell_type": "code",
   "execution_count": null,
   "metadata": {},
   "outputs": [],
   "source": [
    "fit!(model, X, y);"
   ]
  },
  {
   "cell_type": "markdown",
   "metadata": {},
   "source": [
    "- сделать предсказания, например на трейне и посчитать любую метрику доступную в ScikitLearn: "
   ]
  },
  {
   "cell_type": "code",
   "execution_count": null,
   "metadata": {},
   "outputs": [],
   "source": [
    "@sk_import metrics: accuracy_score\n",
    "preds = predict(model, X)\n",
    "accuracy_score(preds, y)"
   ]
  },
  {
   "cell_type": "markdown",
   "metadata": {},
   "source": [
    "Если Вы заметили, то мы использовали метод `predict`, но если вдруг потребуется сделать апостериорную оценку вероятности отнесения объекта к класу, то нужно воспользоваться методом `predict_proba`"
   ]
  },
  {
   "cell_type": "code",
   "execution_count": null,
   "metadata": {},
   "outputs": [],
   "source": [
    "preds_prob = DataFrame(predict_proba(model, X))\n",
    "first(preds_prob, 5)"
   ]
  },
  {
   "cell_type": "markdown",
   "metadata": {},
   "source": [
    "Чтобы достать коэффициенты из обученной модели, необходимо обратиться к методу `.coef_`"
   ]
  },
  {
   "cell_type": "code",
   "execution_count": null,
   "metadata": {},
   "outputs": [],
   "source": [
    "model.coef_"
   ]
  },
  {
   "cell_type": "markdown",
   "metadata": {},
   "source": [
    "Больше методов ищите в [документации](https://cstjean.github.io/ScikitLearn.jl/dev/man/api/) "
   ]
  },
  {
   "cell_type": "markdown",
   "metadata": {},
   "source": [
    "## 2. Кросс валидация \n",
    "Валидация - залог успеха реализация в Julia позволяет это сделать без СМС и регистрации"
   ]
  },
  {
   "cell_type": "code",
   "execution_count": null,
   "metadata": {},
   "outputs": [],
   "source": [
    "scores = CrossValidation.cross_val_score(model, X, y; cv=5)"
   ]
  },
  {
   "cell_type": "code",
   "execution_count": null,
   "metadata": {},
   "outputs": [],
   "source": [
    "using Statistics\n",
    "\n",
    "scores_std = std(scores)\n",
    "scores_mean = mean(scores)\n",
    "\n",
    "print(\"Accuracy: $scores_mean (+/- $scores_std)\")"
   ]
  },
  {
   "cell_type": "markdown",
   "metadata": {},
   "source": [
    "Кроме того, мы можем использовать любые стратегии для разбиения на фолды"
   ]
  },
  {
   "cell_type": "code",
   "execution_count": null,
   "metadata": {},
   "outputs": [],
   "source": [
    "using ScikitLearn.CrossValidation: KFold\n",
    "using ScikitLearn.CrossValidation: cross_val_score"
   ]
  },
  {
   "cell_type": "code",
   "execution_count": null,
   "metadata": {},
   "outputs": [],
   "source": [
    "scores = cross_val_score(model, X, y; cv=KFold(size(X)[1], n_folds=10))"
   ]
  },
  {
   "cell_type": "markdown",
   "metadata": {},
   "source": [
    "## 3. Pipelines"
   ]
  },
  {
   "cell_type": "markdown",
   "metadata": {},
   "source": [
    "Настоящему Data Science специалисту будет явно недостаточно сделать просто `fit` и `predict`, ему захочется строить сложные мультистейджинговые модели, попробуем в качестве примера построить пайплайн:  \n",
    "- MinMaxScaler $\\longrightarrow$ PCA $\\longrightarrow$ LogisticRegression"
   ]
  },
  {
   "cell_type": "code",
   "execution_count": null,
   "metadata": {},
   "outputs": [],
   "source": [
    "using ScikitLearn.Pipelines: Pipeline\n",
    "@sk_import preprocessing: MinMaxScaler\n",
    "@sk_import decomposition: PCA"
   ]
  },
  {
   "cell_type": "markdown",
   "metadata": {},
   "source": [
    "Создадим объекты пайплайна"
   ]
  },
  {
   "cell_type": "code",
   "execution_count": null,
   "metadata": {},
   "outputs": [],
   "source": [
    "scaler = MinMaxScaler(feature_range=(-1, 1))\n",
    "reducer = PCA(n_components=5)\n",
    "model_l1 = LogisticRegression(fit_intercept=true, max_iter = 200, penalty=\"l1\", solver=\"liblinear\")\n",
    "@show"
   ]
  },
  {
   "cell_type": "markdown",
   "metadata": {},
   "source": [
    "Соберем весь пайплайн"
   ]
  },
  {
   "cell_type": "code",
   "execution_count": null,
   "metadata": {},
   "outputs": [],
   "source": [
    "estimators = [(\"min_max_scaler\", scaler), (\"reduce_dim\", reducer), (\"logistic_regression\", model_l1)]\n",
    "\n",
    "pipe = Pipeline(estimators)"
   ]
  },
  {
   "cell_type": "markdown",
   "metadata": {},
   "source": [
    "Проведем кросс валидацию на 5 фолдах, чтобы проверить модель"
   ]
  },
  {
   "cell_type": "code",
   "execution_count": null,
   "metadata": {},
   "outputs": [],
   "source": [
    "scores = cross_val_score(pipe, X, y; cv=5)\n",
    "scores_std = std(scores)\n",
    "scores_mean = mean(scores)\n",
    "print(\"Accuracy: $scores_mean (+/- $scores_std)\")"
   ]
  },
  {
   "cell_type": "markdown",
   "metadata": {},
   "source": [
    "Если нас устроило качество, то обучим модель и сделаем предсказания для тестовой выборки"
   ]
  },
  {
   "cell_type": "code",
   "execution_count": null,
   "metadata": {},
   "outputs": [],
   "source": [
    "fit!(pipe, X, y)\n",
    "predictions = predict_proba(pipe, test)\n",
    "\n",
    "predictions[1:4,:]"
   ]
  },
  {
   "cell_type": "markdown",
   "metadata": {},
   "source": [
    "Пришло время отправить наше решение на [kaggle](https://www.kaggle.com/c/titanic/data)"
   ]
  },
  {
   "cell_type": "code",
   "execution_count": null,
   "metadata": {},
   "outputs": [],
   "source": [
    "url_submission = \"https://raw.githubusercontent.com/JuliaEvangelists/Julia-in-DS/main/data/titanic/gender_submission.csv\"\n",
    "sample_submission = CSV.read(HTTP.get(url_submission).body)\n",
    "\n",
    "first(sample_submission, 3)\n",
    "sample_submission.Survived = predictions[:, 1]\n",
    "\n",
    "CSV.write(\"submission.csv\", sample_submission)"
   ]
  },
  {
   "cell_type": "markdown",
   "metadata": {},
   "source": [
    "Самостоятельно поэкспериментирйте с настройкой параметров с помощью [Grid Search](https://cstjean.github.io/ScikitLearn.jl/dev/man/model_selection/)"
   ]
  },
  {
   "cell_type": "markdown",
   "metadata": {},
   "source": [
    "## 4. Нативные Julia модели\n",
    "\n",
    "Модели написанные на Julia размещаются в других пакетах и их необходимо установить отдельно с помощью `Pkg.add`. Среди таких моделей есть например реализации:\n",
    "- [GaussianMixtures](https://github.com/davidavdav/GaussianMixtures.jl)\n",
    "- [DecisionTree](https://github.com/bensadeghi/DecisionTree.jl)\n",
    "\n",
    "Воспользуемся последней:"
   ]
  },
  {
   "cell_type": "code",
   "execution_count": null,
   "metadata": {},
   "outputs": [],
   "source": [
    "using DecisionTree: DecisionTreeClassifier, print_tree"
   ]
  },
  {
   "cell_type": "markdown",
   "metadata": {},
   "source": [
    "Обучим модель и сделаем предсказание"
   ]
  },
  {
   "cell_type": "code",
   "execution_count": null,
   "metadata": {},
   "outputs": [],
   "source": [
    "model = DecisionTreeClassifier(max_depth=5)\n",
    "fit!(model, X, y)\n",
    "# apply learned model\n",
    "predict(model, test)[1:5, :]\n",
    "# get the probability of each label"
   ]
  },
  {
   "cell_type": "markdown",
   "metadata": {},
   "source": [
    "Кстати, в этом пакете есть удобное средство для визуализации построенного дерева"
   ]
  },
  {
   "cell_type": "code",
   "execution_count": null,
   "metadata": {},
   "outputs": [],
   "source": [
    "print_tree(model, 5)"
   ]
  },
  {
   "cell_type": "markdown",
   "metadata": {},
   "source": [
    "## 5. Сравним модели Julia и Python\n",
    "  \n",
    "Любознательному читателю было бы интересно сравнить скорость обучения для разных реализаций. Сделаем это для RandomForestClassifier!  "
   ]
  },
  {
   "cell_type": "code",
   "execution_count": null,
   "metadata": {},
   "outputs": [],
   "source": [
    "import DecisionTree\n",
    "@sk_import ensemble: RandomForestClassifier\n",
    "\n",
    "model_py = RandomForestClassifier(n_estimators=1000)\n",
    "model_native = DecisionTree.RandomForestClassifier(n_trees=1000)"
   ]
  },
  {
   "cell_type": "code",
   "execution_count": null,
   "metadata": {},
   "outputs": [],
   "source": [
    "@time score_native =  cross_val_score(model_native, X, y, cv=5)\n",
    "@time score_py = cross_val_score(model_py, X, y, cv=5)\n",
    "\n",
    "score_native = [mean(score_native)-std(score_native), mean(score_native)+std(score_native)]\n",
    "score_py = [mean(score_py)-std(score_py), mean(score_py)+std(score_py)]\n",
    "\n",
    "println()\n",
    "println(\"Среднее качество для кросс валидации на 5 фолдах:\")\n",
    "println(\"для Julia: $score_native\")\n",
    "println(\"для Python: $score_py\")"
   ]
  },
  {
   "cell_type": "markdown",
   "metadata": {},
   "source": [
    "## 6. Другие интересные пакеты \n",
    "\n",
    "- [MLJ](https://github.com/alan-turing-institute/MLJ.jl) от Института Алана Тьюринга - это набор инструментов, написанный на языке Julia, предоставляющий общий интерфейс и мета-алгоритмы для выбора, настройки, оценки, составления и сравнения моделей машинного обучения, написанных на языке Julia. В частности, MLJ оборачивает большое количество моделей scikit-learn.     \n",
    "- [CombineML](https://github.com/ppalmes/CombineML.jl) используется для обучения различных ансамблей над алгоритмами.\n",
    "- [AutoMLPipeline](https://github.com/IBM/AutoMLPipeline.jl) для упрощения построения пайплайнов\n",
    "- [TSML](https://github.com/IBM/TSML.jl) для работы с временными рядами\n",
    "- [Flux](https://fluxml.ai/Flux.jl/stable/) позволяет учить нейронные сети и другие алгоритмы легко и непринужденно подключая GPU. Этот пакет мы рассмотрим уже в следующем уроке. "
   ]
  }
 ],
 "metadata": {
  "kernelspec": {
   "display_name": "Julia 1.3.1",
   "language": "julia",
   "name": "julia-1.3"
  },
  "language_info": {
   "file_extension": ".jl",
   "mimetype": "application/julia",
   "name": "julia",
   "version": "1.3.1"
  }
 },
 "nbformat": 4,
 "nbformat_minor": 4
}
