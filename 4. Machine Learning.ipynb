{
 "cells": [
  {
   "cell_type": "markdown",
   "metadata": {},
   "source": [
    "# Урок 4. Машинное обучение"
   ]
  },
  {
   "cell_type": "markdown",
   "metadata": {},
   "source": [
    "Конечно, для Julia существует имплементация всеми любимого [ScikitLearn](https://github.com/cstjean/ScikitLearn.jl/). Прежде чем мы начнем, конечно нам нужно раздобыть данные, но чтобы далеко не ходить, мы просто возьмем данные из [Титаника](https://www.kaggle.com/c/titanic/data)"
   ]
  },
  {
   "cell_type": "code",
   "execution_count": null,
   "metadata": {},
   "outputs": [],
   "source": [
    "import Pkg;\n",
    "Pkg.add(\"HTTP\")\n",
    "Pkg.add(\"ScikitLearn\")\n",
    "Pkg.add(\"CategoricalArrays\")"
   ]
  },
  {
   "cell_type": "code",
   "execution_count": null,
   "metadata": {},
   "outputs": [],
   "source": [
    "using CSV\n",
    "using HTTP # Модуль для работы с HTTP\n",
    "using DataFrames\n",
    "using ScikitLearn\n",
    "using CategoricalArrays # Модуль для работы с Категориальными переменными"
   ]
  },
  {
   "cell_type": "markdown",
   "metadata": {},
   "source": [
    "## 0. Подготовка данных"
   ]
  },
  {
   "cell_type": "code",
   "execution_count": null,
   "metadata": {},
   "outputs": [],
   "source": [
    "url_train = \"https://raw.githubusercontent.com/JuliaEvangelists/Julia-in-DS/main/data/titanic/train.csv\"\n",
    "url_test = \"https://raw.githubusercontent.com/JuliaEvangelists/Julia-in-DS/main/data/titanic/test.csv\""
   ]
  },
  {
   "cell_type": "markdown",
   "metadata": {},
   "source": [
    "Кстати, мы не рассказали Вам в уроке 2, но модуль [CSV](https://juliadata.github.io/CSV.jl/stable/) может использовать модуль [HTTP](https://juliaweb.github.io/HTTP.jl/stable/) для того чтобы взять данные которые доступны в интернете:"
   ]
  },
  {
   "cell_type": "code",
   "execution_count": null,
   "metadata": {
    "scrolled": true
   },
   "outputs": [],
   "source": [
    "train = CSV.read(HTTP.get(url_train).body)\n",
    "test = CSV.read(HTTP.get(url_test).body)\n",
    "\n",
    "size(train), size(test)"
   ]
  },
  {
   "cell_type": "code",
   "execution_count": null,
   "metadata": {},
   "outputs": [],
   "source": [
    "first(train, 5)"
   ]
  },
  {
   "cell_type": "markdown",
   "metadata": {},
   "source": [
    "Сделаем небольшие предобработки и для начала заменим пустые значения нулями, для этого воспользуемся методом `coalesce.`, подробнее о работе с пропусками можно ознакомиться [тут](http://juliadata.github.io/DataFrames.jl/stable/man/missing/)"
   ]
  },
  {
   "cell_type": "code",
   "execution_count": null,
   "metadata": {},
   "outputs": [],
   "source": [
    "train_ready = coalesce.(train, 0) \n",
    "test_ready = coalesce.(test, 0) \n",
    "@show "
   ]
  },
  {
   "cell_type": "markdown",
   "metadata": {},
   "source": [
    "Удалим бесполезные столбцы:"
   ]
  },
  {
   "cell_type": "code",
   "execution_count": null,
   "metadata": {},
   "outputs": [],
   "source": [
    "train_ready = select(train_ready, Not([:Name, :PassengerId, :Ticket, :Cabin]))\n",
    "test_ready = select(test_ready, Not([:Name, :PassengerId, :Ticket, :Cabin]))\n",
    "\n",
    "@show"
   ]
  },
  {
   "cell_type": "markdown",
   "metadata": {},
   "source": [
    "Затем, мы избавимся от текстовых данных приведя их к категориальным переменным. Подробнее [тут](http://juliadata.github.io/DataFrames.jl/stable/man/categorical/)"
   ]
  },
  {
   "cell_type": "code",
   "execution_count": null,
   "metadata": {},
   "outputs": [],
   "source": [
    "unique(train_ready.Embarked), unique(train_ready.Sex)"
   ]
  },
  {
   "cell_type": "code",
   "execution_count": null,
   "metadata": {},
   "outputs": [],
   "source": [
    "train_ready.Sex = recode(train_ready.Sex, \"male\" => 1, \"female\" => 0)\n",
    "test_ready.Sex = recode(test_ready.Sex, \"male\" => 1, \"female\" => 0)\n",
    "@show"
   ]
  },
  {
   "cell_type": "code",
   "execution_count": null,
   "metadata": {},
   "outputs": [],
   "source": [
    "train_ready.Embarked_S = recode(train_ready.Embarked, 0, \"S\" => 1)\n",
    "train_ready.Embarked_C = recode(train_ready.Embarked, 0, \"C\" => 1)\n",
    "train_ready.Embarked_Q = recode(train_ready.Embarked, 0, \"Q\" => 1)\n",
    "\n",
    "test_ready.Embarked_S = recode(test_ready.Embarked, 0, \"S\" => 1)\n",
    "test_ready.Embarked_C = recode(test_ready.Embarked, 0, \"C\" => 1)\n",
    "test_ready.Embarked_Q = recode(test_ready.Embarked, 0, \"Q\" => 1)\n",
    "\n",
    "@show"
   ]
  },
  {
   "cell_type": "code",
   "execution_count": null,
   "metadata": {},
   "outputs": [],
   "source": [
    "train_ready = select(train_ready, Not([:Embarked]))\n",
    "test_ready = select(test_ready, Not([:Embarked]))\n",
    "\n",
    "first(train_ready, 3)"
   ]
  },
  {
   "cell_type": "code",
   "execution_count": null,
   "metadata": {},
   "outputs": [],
   "source": [
    "X = convert(Array{Float64,2}, select(train_ready, Not(\"Survived\")))\n",
    "y = reshape(convert(Array, select(train_ready, \"Survived\")),  (891))\n",
    "\n",
    "test = convert(Array{Float64,2}, test_ready)\n",
    "@show"
   ]
  },
  {
   "cell_type": "code",
   "execution_count": null,
   "metadata": {},
   "outputs": [],
   "source": [
    "@sk_import linear_model: LogisticRegression"
   ]
  },
  {
   "cell_type": "markdown",
   "metadata": {},
   "source": [
    "Every model's constructor accepts hyperparameters (such as regression strength, whether to fit the intercept, the penalty type, etc.) as keyword arguments. Check out ?LogisticRegression for details."
   ]
  },
  {
   "cell_type": "code",
   "execution_count": null,
   "metadata": {},
   "outputs": [],
   "source": [
    "?LogisticRegression"
   ]
  },
  {
   "cell_type": "code",
   "execution_count": null,
   "metadata": {
    "scrolled": true
   },
   "outputs": [],
   "source": [
    "model = LogisticRegression(fit_intercept=true, max_iter = 200)"
   ]
  },
  {
   "cell_type": "code",
   "execution_count": null,
   "metadata": {},
   "outputs": [],
   "source": [
    "fit!(model, X, y);"
   ]
  },
  {
   "cell_type": "code",
   "execution_count": null,
   "metadata": {},
   "outputs": [],
   "source": [
    "accuracy = score(model, X, y)"
   ]
  },
  {
   "cell_type": "code",
   "execution_count": null,
   "metadata": {},
   "outputs": [],
   "source": [
    "using ScikitLearn.CrossValidation: cross_val_score"
   ]
  },
  {
   "cell_type": "code",
   "execution_count": null,
   "metadata": {},
   "outputs": [],
   "source": [
    "scores = cross_val_score(model, X, y; cv=5)"
   ]
  },
  {
   "cell_type": "code",
   "execution_count": null,
   "metadata": {},
   "outputs": [],
   "source": [
    "using Statistics"
   ]
  },
  {
   "cell_type": "code",
   "execution_count": null,
   "metadata": {},
   "outputs": [],
   "source": [
    "scores_std = std(scores)\n",
    "scores_mean = mean(scores)"
   ]
  },
  {
   "cell_type": "code",
   "execution_count": null,
   "metadata": {},
   "outputs": [],
   "source": [
    "print(\"Accuracy: $scores_mean (+/- $scores_std)\")"
   ]
  },
  {
   "cell_type": "code",
   "execution_count": null,
   "metadata": {},
   "outputs": [],
   "source": [
    "using ScikitLearn.CrossValidation: KFold"
   ]
  },
  {
   "cell_type": "code",
   "execution_count": null,
   "metadata": {},
   "outputs": [],
   "source": [
    "scores = cross_val_score(model, X, y; cv=KFold(size(X)[1], n_folds=10))"
   ]
  },
  {
   "cell_type": "code",
   "execution_count": null,
   "metadata": {},
   "outputs": [],
   "source": [
    "@sk_import preprocessing: MinMaxScaler"
   ]
  },
  {
   "cell_type": "code",
   "execution_count": null,
   "metadata": {},
   "outputs": [],
   "source": [
    "scaler = MinMaxScaler(feature_range=(-1, 1))"
   ]
  },
  {
   "cell_type": "code",
   "execution_count": null,
   "metadata": {},
   "outputs": [],
   "source": [
    "X_scaled = fit_transform!(scaler, X)\n",
    "scores = cross_val_score(model, X_scaled, y; cv=5)\n",
    "scores_std = std(scores)\n",
    "scores_mean = mean(scores)\n",
    "print(\"Accuracy: $scores_mean (+/- $scores_std)\")"
   ]
  },
  {
   "cell_type": "code",
   "execution_count": null,
   "metadata": {},
   "outputs": [],
   "source": [
    "predictions = predict_proba(model, test)"
   ]
  },
  {
   "cell_type": "code",
   "execution_count": null,
   "metadata": {},
   "outputs": [],
   "source": [
    "model.coef_"
   ]
  },
  {
   "cell_type": "markdown",
   "metadata": {},
   "source": [
    "Отправьте Ваше решение на [kaggle](https://www.kaggle.com/c/titanic/data)"
   ]
  },
  {
   "cell_type": "code",
   "execution_count": null,
   "metadata": {},
   "outputs": [],
   "source": [
    "url_submission = \"https://raw.githubusercontent.com/JuliaEvangelists/Julia-in-DS/main/data/titanic/gender_submission.csv\"\n",
    "sample_submission = CSV.read(HTTP.get(url_submission).body)\n",
    "\n",
    "first(sample_submission, 3)\n",
    "sample_submission.Survived = predictions[:, 1]\n",
    "\n",
    "CSV.write(\"submission.csv\", sample_submission)"
   ]
  },
  {
   "cell_type": "code",
   "execution_count": null,
   "metadata": {},
   "outputs": [],
   "source": []
  },
  {
   "cell_type": "code",
   "execution_count": null,
   "metadata": {},
   "outputs": [],
   "source": [
    "@sk_import ensemble: RandomForestClassifier"
   ]
  },
  {
   "cell_type": "code",
   "execution_count": null,
   "metadata": {},
   "outputs": [],
   "source": [
    "model = RandomForestClassifier(n_estimators=100)\n",
    "@time cross_val_score(model, X, y, cv=5)"
   ]
  },
  {
   "cell_type": "code",
   "execution_count": null,
   "metadata": {
    "scrolled": true
   },
   "outputs": [],
   "source": [
    "#Pkg.add(\"DecisionTree\")\n",
    "using DecisionTree"
   ]
  },
  {
   "cell_type": "code",
   "execution_count": null,
   "metadata": {},
   "outputs": [],
   "source": [
    "model = DecisionTreeClassifier()\n",
    "fit!(model, X, y)\n",
    "# pretty print of the tree, to a depth of 5 nodes (optional)\n",
    "print_tree(model, 5)"
   ]
  },
  {
   "cell_type": "code",
   "execution_count": null,
   "metadata": {},
   "outputs": [],
   "source": [
    "# apply learned model\n",
    "predict(model, test)\n",
    "# get the probability of each label"
   ]
  },
  {
   "cell_type": "code",
   "execution_count": null,
   "metadata": {},
   "outputs": [],
   "source": [
    "model = RandomForestClassifier(n_trees=100)\n",
    "@time cross_val_score(model, X, y, cv=5)"
   ]
  },
  {
   "cell_type": "code",
   "execution_count": null,
   "metadata": {},
   "outputs": [],
   "source": []
  },
  {
   "cell_type": "code",
   "execution_count": null,
   "metadata": {},
   "outputs": [],
   "source": []
  }
 ],
 "metadata": {
  "kernelspec": {
   "display_name": "Julia 1.3.1",
   "language": "julia",
   "name": "julia-1.3"
  },
  "language_info": {
   "file_extension": ".jl",
   "mimetype": "application/julia",
   "name": "julia",
   "version": "1.3.1"
  }
 },
 "nbformat": 4,
 "nbformat_minor": 4
}
